{
  "nbformat": 4,
  "nbformat_minor": 0,
  "metadata": {
    "colab": {
      "name": "wyscout-xG.ipynb",
      "provenance": [],
      "collapsed_sections": [],
      "toc_visible": true,
      "machine_shape": "hm",
      "authorship_tag": "ABX9TyNYkzsj5E3eVV43IDZwnAvt",
      "include_colab_link": true
    },
    "kernelspec": {
      "name": "python3",
      "display_name": "Python 3"
    },
    "accelerator": "TPU"
  },
  "cells": [
    {
      "cell_type": "markdown",
      "metadata": {
        "id": "view-in-github",
        "colab_type": "text"
      },
      "source": [
        "<a href=\"https://colab.research.google.com/github/koushikkirugulige/wyscout-data/blob/master/wyscout_xG.ipynb\" target=\"_parent\"><img src=\"https://colab.research.google.com/assets/colab-badge.svg\" alt=\"Open In Colab\"/></a>"
      ]
    },
    {
      "cell_type": "code",
      "metadata": {
        "id": "Io1hcMXQswHG",
        "colab_type": "code",
        "outputId": "f1acf1a9-397a-45cf-fbdb-c7fe6a8f7492",
        "colab": {
          "base_uri": "https://localhost:8080/",
          "height": 119
        }
      },
      "source": [
        "!git clone https://github.com/koushikkirugulige/wyscout-data"
      ],
      "execution_count": 0,
      "outputs": [
        {
          "output_type": "stream",
          "text": [
            "Cloning into 'wyscout-data'...\n",
            "remote: Enumerating objects: 16, done.\u001b[K\n",
            "remote: Counting objects:   6% (1/16)\u001b[K\rremote: Counting objects:  12% (2/16)\u001b[K\rremote: Counting objects:  18% (3/16)\u001b[K\rremote: Counting objects:  25% (4/16)\u001b[K\rremote: Counting objects:  31% (5/16)\u001b[K\rremote: Counting objects:  37% (6/16)\u001b[K\rremote: Counting objects:  43% (7/16)\u001b[K\rremote: Counting objects:  50% (8/16)\u001b[K\rremote: Counting objects:  56% (9/16)\u001b[K\rremote: Counting objects:  62% (10/16)\u001b[K\rremote: Counting objects:  68% (11/16)\u001b[K\rremote: Counting objects:  75% (12/16)\u001b[K\rremote: Counting objects:  81% (13/16)\u001b[K\rremote: Counting objects:  87% (14/16)\u001b[K\rremote: Counting objects:  93% (15/16)\u001b[K\rremote: Counting objects: 100% (16/16)\u001b[K\rremote: Counting objects: 100% (16/16), done.\u001b[K\n",
            "remote: Compressing objects:   6% (1/15)\u001b[K\rremote: Compressing objects:  13% (2/15)\u001b[K\rremote: Compressing objects:  20% (3/15)\u001b[K\rremote: Compressing objects:  26% (4/15)\u001b[K\rremote: Compressing objects:  33% (5/15)\u001b[K\rremote: Compressing objects:  40% (6/15)\u001b[K\rremote: Compressing objects:  46% (7/15)\u001b[K\rremote: Compressing objects:  53% (8/15)\u001b[K\rremote: Compressing objects:  60% (9/15)\u001b[K\rremote: Compressing objects:  66% (10/15)\u001b[K\rremote: Compressing objects:  73% (11/15)\u001b[K\rremote: Compressing objects:  80% (12/15)\u001b[K\rremote: Compressing objects:  86% (13/15)\u001b[K\rremote: Compressing objects:  93% (14/15)\u001b[K\rremote: Compressing objects: 100% (15/15)\u001b[K\rremote: Compressing objects: 100% (15/15), done.\u001b[K\n",
            "remote: Total 35 (delta 6), reused 7 (delta 1), pack-reused 19\u001b[K\n",
            "Unpacking objects: 100% (35/35), done.\n"
          ],
          "name": "stdout"
        }
      ]
    },
    {
      "cell_type": "code",
      "metadata": {
        "id": "Zc6Ehhzwtty1",
        "colab_type": "code",
        "outputId": "6b503c01-9d5b-4264-876f-c9f3808f05f8",
        "colab": {
          "base_uri": "https://localhost:8080/",
          "height": 153
        }
      },
      "source": [
        "!unzip /content/wyscout-data/events.zip"
      ],
      "execution_count": 0,
      "outputs": [
        {
          "output_type": "stream",
          "text": [
            "Archive:  /content/wyscout-data/events.zip\n",
            "  inflating: events_England.json     \n",
            "  inflating: events_European_Championship.json  \n",
            "  inflating: events_France.json      \n",
            "  inflating: events_Germany.json     \n",
            "  inflating: events_Italy.json       \n",
            "  inflating: events_Spain.json       \n",
            "  inflating: events_World_Cup.json   \n"
          ],
          "name": "stdout"
        }
      ]
    },
    {
      "cell_type": "code",
      "metadata": {
        "id": "5V9YbZqGtIZP",
        "colab_type": "code",
        "colab": {}
      },
      "source": [
        "#import all modules\n",
        "import json\n",
        "import os\n",
        "import codecs\n",
        "import numpy as np\n",
        "import pandas as pd\n",
        "import matplotlib.pyplot as plt\n",
        "from matplotlib.patches import Arc, Rectangle, ConnectionPatch\n",
        "from matplotlib.offsetbox import  OffsetImage\n",
        "from matplotlib.patches import Ellipse\n",
        "from functools import reduce\n",
        "import math"
      ],
      "execution_count": 0,
      "outputs": []
    },
    {
      "cell_type": "code",
      "metadata": {
        "id": "AHMOVKSaQfaa",
        "colab_type": "code",
        "outputId": "4eae9652-196f-4330-efd0-5279dfd4c138",
        "colab": {
          "base_uri": "https://localhost:8080/",
          "height": 51
        }
      },
      "source": [
        "%%time\n",
        "events={}\n",
        "nations = ['Italy','England','Germany','France','Spain','European_Championship','World_Cup']\n",
        "for nation in nations:\n",
        "    with open('/content/events_%s.json' %nation) as json_data:\n",
        "        events[nation] = json.load(json_data)\n",
        "data = events      \n",
        "del events  "
      ],
      "execution_count": 0,
      "outputs": [
        {
          "output_type": "stream",
          "text": [
            "CPU times: user 27.5 s, sys: 5 s, total: 32.5 s\n",
            "Wall time: 32.5 s\n"
          ],
          "name": "stdout"
        }
      ]
    },
    {
      "cell_type": "code",
      "metadata": {
        "id": "lryUmcOSu_8c",
        "colab_type": "code",
        "outputId": "0058978c-49f6-4528-bd87-031c61ec0dfc",
        "colab": {
          "base_uri": "https://localhost:8080/",
          "height": 51
        }
      },
      "source": [
        "%%time\n",
        "main_df = pd.DataFrame(data=None)\n",
        "for nation in nations:\n",
        "  df_tags = pd.json_normalize(data = data[nation],record_path ='tags', meta =['id'],record_prefix='tags')\n",
        "  main_df = main_df.append(df_tags,ignore_index=True,sort=False) \n",
        "main_df.head()\n",
        "df_tags = main_df\n",
        "del main_df"
      ],
      "execution_count": 0,
      "outputs": [
        {
          "output_type": "stream",
          "text": [
            "CPU times: user 32.8 s, sys: 1.02 s, total: 33.9 s\n",
            "Wall time: 33.9 s\n"
          ],
          "name": "stdout"
        }
      ]
    },
    {
      "cell_type": "code",
      "metadata": {
        "id": "kbPrYNqC1SIA",
        "colab_type": "code",
        "colab": {}
      },
      "source": [
        "goals_lst = df_tags.query('tagsid ==101')['id'].tolist()"
      ],
      "execution_count": 0,
      "outputs": []
    },
    {
      "cell_type": "code",
      "metadata": {
        "id": "8cTsTTyG2qiA",
        "colab_type": "code",
        "colab": {}
      },
      "source": [
        "def flatten_json(nested_json, exclude=['']):\n",
        "    \"\"\"Flatten json object with nested keys into a single level.\n",
        "        Args:\n",
        "            nested_json: A nested json object.\n",
        "            exclude: Keys to exclude from output.\n",
        "        Returns:\n",
        "            The flattened json object if successful, None otherwise.\n",
        "    \"\"\"\n",
        "    out = {}\n",
        "\n",
        "    def flatten(x, name='', exclude=exclude):\n",
        "        if type(x) is dict:\n",
        "            for a in x:\n",
        "                if a not in exclude: flatten(x[a], name + a + '_')\n",
        "        elif type(x) is list:\n",
        "            i = 0\n",
        "            for a in x:\n",
        "                flatten(a, name + str(i) + '_')\n",
        "                i += 1\n",
        "        else:\n",
        "            out[name[:-1]] = x\n",
        "\n",
        "    flatten(nested_json)\n",
        "    return out"
      ],
      "execution_count": 0,
      "outputs": []
    },
    {
      "cell_type": "code",
      "metadata": {
        "id": "mcMpyilZ2rov",
        "colab_type": "code",
        "outputId": "7fc93f9e-e267-463b-fc50-f9c408b08f14",
        "colab": {
          "base_uri": "https://localhost:8080/",
          "height": 51
        }
      },
      "source": [
        "%%time\n",
        "main_df = pd.DataFrame(data=None)\n",
        "for nation in nations:\n",
        "  df = pd.DataFrame([flatten_json(x) for x in data[nation]])\n",
        "  main_df = main_df.append(df,ignore_index=True,sort=False) \n",
        "df = main_df\n",
        "del main_df  "
      ],
      "execution_count": 0,
      "outputs": [
        {
          "output_type": "stream",
          "text": [
            "CPU times: user 1min 9s, sys: 2.82 s, total: 1min 12s\n",
            "Wall time: 1min 12s\n"
          ],
          "name": "stdout"
        }
      ]
    },
    {
      "cell_type": "code",
      "metadata": {
        "id": "cVKoSFzF9frH",
        "colab_type": "code",
        "outputId": "3d805168-45cc-4cc0-d008-d7e9c8965d03",
        "colab": {
          "base_uri": "https://localhost:8080/",
          "height": 439
        }
      },
      "source": [
        "df[(df['eventId'] == 10)  |  (df['subEventName'] == 'Penalty')]"
      ],
      "execution_count": 0,
      "outputs": [
        {
          "output_type": "execute_result",
          "data": {
            "text/html": [
              "<div>\n",
              "<style scoped>\n",
              "    .dataframe tbody tr th:only-of-type {\n",
              "        vertical-align: middle;\n",
              "    }\n",
              "\n",
              "    .dataframe tbody tr th {\n",
              "        vertical-align: top;\n",
              "    }\n",
              "\n",
              "    .dataframe thead th {\n",
              "        text-align: right;\n",
              "    }\n",
              "</style>\n",
              "<table border=\"1\" class=\"dataframe\">\n",
              "  <thead>\n",
              "    <tr style=\"text-align: right;\">\n",
              "      <th></th>\n",
              "      <th>eventId</th>\n",
              "      <th>subEventName</th>\n",
              "      <th>tags_0_id</th>\n",
              "      <th>playerId</th>\n",
              "      <th>positions_0_y</th>\n",
              "      <th>positions_0_x</th>\n",
              "      <th>positions_1_y</th>\n",
              "      <th>positions_1_x</th>\n",
              "      <th>matchId</th>\n",
              "      <th>eventName</th>\n",
              "      <th>teamId</th>\n",
              "      <th>matchPeriod</th>\n",
              "      <th>eventSec</th>\n",
              "      <th>subEventId</th>\n",
              "      <th>id</th>\n",
              "      <th>tags_1_id</th>\n",
              "      <th>tags_2_id</th>\n",
              "      <th>tags_3_id</th>\n",
              "      <th>tags_4_id</th>\n",
              "      <th>tags_5_id</th>\n",
              "    </tr>\n",
              "  </thead>\n",
              "  <tbody>\n",
              "    <tr>\n",
              "      <th>68</th>\n",
              "      <td>10</td>\n",
              "      <td>Shot</td>\n",
              "      <td>402.0</td>\n",
              "      <td>21077</td>\n",
              "      <td>41</td>\n",
              "      <td>80</td>\n",
              "      <td>0.0</td>\n",
              "      <td>0.0</td>\n",
              "      <td>2575959</td>\n",
              "      <td>Shot</td>\n",
              "      <td>3172</td>\n",
              "      <td>1H</td>\n",
              "      <td>193.924279</td>\n",
              "      <td>100</td>\n",
              "      <td>180424028</td>\n",
              "      <td>201.0</td>\n",
              "      <td>1203.0</td>\n",
              "      <td>1801.0</td>\n",
              "      <td>NaN</td>\n",
              "      <td>NaN</td>\n",
              "    </tr>\n",
              "    <tr>\n",
              "      <th>90</th>\n",
              "      <td>10</td>\n",
              "      <td>Shot</td>\n",
              "      <td>401.0</td>\n",
              "      <td>8327</td>\n",
              "      <td>33</td>\n",
              "      <td>95</td>\n",
              "      <td>100.0</td>\n",
              "      <td>100.0</td>\n",
              "      <td>2575959</td>\n",
              "      <td>Shot</td>\n",
              "      <td>3158</td>\n",
              "      <td>1H</td>\n",
              "      <td>250.843152</td>\n",
              "      <td>100</td>\n",
              "      <td>180424079</td>\n",
              "      <td>201.0</td>\n",
              "      <td>1210.0</td>\n",
              "      <td>1802.0</td>\n",
              "      <td>NaN</td>\n",
              "      <td>NaN</td>\n",
              "    </tr>\n",
              "    <tr>\n",
              "      <th>213</th>\n",
              "      <td>10</td>\n",
              "      <td>Shot</td>\n",
              "      <td>402.0</td>\n",
              "      <td>20879</td>\n",
              "      <td>63</td>\n",
              "      <td>72</td>\n",
              "      <td>100.0</td>\n",
              "      <td>100.0</td>\n",
              "      <td>2575959</td>\n",
              "      <td>Shot</td>\n",
              "      <td>3158</td>\n",
              "      <td>1H</td>\n",
              "      <td>633.577774</td>\n",
              "      <td>100</td>\n",
              "      <td>180424208</td>\n",
              "      <td>2101.0</td>\n",
              "      <td>1802.0</td>\n",
              "      <td>NaN</td>\n",
              "      <td>NaN</td>\n",
              "      <td>NaN</td>\n",
              "    </tr>\n",
              "    <tr>\n",
              "      <th>426</th>\n",
              "      <td>10</td>\n",
              "      <td>Shot</td>\n",
              "      <td>1901.0</td>\n",
              "      <td>23149</td>\n",
              "      <td>62</td>\n",
              "      <td>91</td>\n",
              "      <td>100.0</td>\n",
              "      <td>100.0</td>\n",
              "      <td>2575959</td>\n",
              "      <td>Shot</td>\n",
              "      <td>3158</td>\n",
              "      <td>1H</td>\n",
              "      <td>1359.469422</td>\n",
              "      <td>100</td>\n",
              "      <td>180424444</td>\n",
              "      <td>402.0</td>\n",
              "      <td>201.0</td>\n",
              "      <td>1210.0</td>\n",
              "      <td>1802.0</td>\n",
              "      <td>NaN</td>\n",
              "    </tr>\n",
              "    <tr>\n",
              "      <th>435</th>\n",
              "      <td>10</td>\n",
              "      <td>Shot</td>\n",
              "      <td>1901.0</td>\n",
              "      <td>295176</td>\n",
              "      <td>26</td>\n",
              "      <td>86</td>\n",
              "      <td>0.0</td>\n",
              "      <td>0.0</td>\n",
              "      <td>2575959</td>\n",
              "      <td>Shot</td>\n",
              "      <td>3172</td>\n",
              "      <td>1H</td>\n",
              "      <td>1412.601525</td>\n",
              "      <td>100</td>\n",
              "      <td>180424409</td>\n",
              "      <td>401.0</td>\n",
              "      <td>1216.0</td>\n",
              "      <td>1802.0</td>\n",
              "      <td>NaN</td>\n",
              "      <td>NaN</td>\n",
              "    </tr>\n",
              "    <tr>\n",
              "      <th>...</th>\n",
              "      <td>...</td>\n",
              "      <td>...</td>\n",
              "      <td>...</td>\n",
              "      <td>...</td>\n",
              "      <td>...</td>\n",
              "      <td>...</td>\n",
              "      <td>...</td>\n",
              "      <td>...</td>\n",
              "      <td>...</td>\n",
              "      <td>...</td>\n",
              "      <td>...</td>\n",
              "      <td>...</td>\n",
              "      <td>...</td>\n",
              "      <td>...</td>\n",
              "      <td>...</td>\n",
              "      <td>...</td>\n",
              "      <td>...</td>\n",
              "      <td>...</td>\n",
              "      <td>...</td>\n",
              "      <td>...</td>\n",
              "    </tr>\n",
              "    <tr>\n",
              "      <th>3250906</th>\n",
              "      <td>10</td>\n",
              "      <td>Shot</td>\n",
              "      <td>101.0</td>\n",
              "      <td>14943</td>\n",
              "      <td>53</td>\n",
              "      <td>92</td>\n",
              "      <td>100.0</td>\n",
              "      <td>100.0</td>\n",
              "      <td>2058017</td>\n",
              "      <td>Shot</td>\n",
              "      <td>9598</td>\n",
              "      <td>2H</td>\n",
              "      <td>1389.182669</td>\n",
              "      <td>100</td>\n",
              "      <td>263885208</td>\n",
              "      <td>402.0</td>\n",
              "      <td>201.0</td>\n",
              "      <td>1205.0</td>\n",
              "      <td>1801.0</td>\n",
              "      <td>NaN</td>\n",
              "    </tr>\n",
              "    <tr>\n",
              "      <th>3250992</th>\n",
              "      <td>10</td>\n",
              "      <td>Shot</td>\n",
              "      <td>402.0</td>\n",
              "      <td>69409</td>\n",
              "      <td>61</td>\n",
              "      <td>65</td>\n",
              "      <td>100.0</td>\n",
              "      <td>100.0</td>\n",
              "      <td>2058017</td>\n",
              "      <td>Shot</td>\n",
              "      <td>9598</td>\n",
              "      <td>2H</td>\n",
              "      <td>1802.299261</td>\n",
              "      <td>100</td>\n",
              "      <td>263885299</td>\n",
              "      <td>201.0</td>\n",
              "      <td>1211.0</td>\n",
              "      <td>1802.0</td>\n",
              "      <td>NaN</td>\n",
              "      <td>NaN</td>\n",
              "    </tr>\n",
              "    <tr>\n",
              "      <th>3251028</th>\n",
              "      <td>10</td>\n",
              "      <td>Shot</td>\n",
              "      <td>401.0</td>\n",
              "      <td>3476</td>\n",
              "      <td>33</td>\n",
              "      <td>81</td>\n",
              "      <td>100.0</td>\n",
              "      <td>100.0</td>\n",
              "      <td>2058017</td>\n",
              "      <td>Shot</td>\n",
              "      <td>9598</td>\n",
              "      <td>2H</td>\n",
              "      <td>1933.996341</td>\n",
              "      <td>100</td>\n",
              "      <td>263885348</td>\n",
              "      <td>2101.0</td>\n",
              "      <td>1802.0</td>\n",
              "      <td>NaN</td>\n",
              "      <td>NaN</td>\n",
              "      <td>NaN</td>\n",
              "    </tr>\n",
              "    <tr>\n",
              "      <th>3251155</th>\n",
              "      <td>10</td>\n",
              "      <td>Shot</td>\n",
              "      <td>401.0</td>\n",
              "      <td>28115</td>\n",
              "      <td>76</td>\n",
              "      <td>78</td>\n",
              "      <td>0.0</td>\n",
              "      <td>0.0</td>\n",
              "      <td>2058017</td>\n",
              "      <td>Shot</td>\n",
              "      <td>4418</td>\n",
              "      <td>2H</td>\n",
              "      <td>2487.443304</td>\n",
              "      <td>100</td>\n",
              "      <td>263885485</td>\n",
              "      <td>201.0</td>\n",
              "      <td>1204.0</td>\n",
              "      <td>1801.0</td>\n",
              "      <td>NaN</td>\n",
              "      <td>NaN</td>\n",
              "    </tr>\n",
              "    <tr>\n",
              "      <th>3251188</th>\n",
              "      <td>10</td>\n",
              "      <td>Shot</td>\n",
              "      <td>402.0</td>\n",
              "      <td>3476</td>\n",
              "      <td>29</td>\n",
              "      <td>70</td>\n",
              "      <td>100.0</td>\n",
              "      <td>100.0</td>\n",
              "      <td>2058017</td>\n",
              "      <td>Shot</td>\n",
              "      <td>9598</td>\n",
              "      <td>2H</td>\n",
              "      <td>2589.084194</td>\n",
              "      <td>100</td>\n",
              "      <td>263885575</td>\n",
              "      <td>201.0</td>\n",
              "      <td>1216.0</td>\n",
              "      <td>1802.0</td>\n",
              "      <td>NaN</td>\n",
              "      <td>NaN</td>\n",
              "    </tr>\n",
              "  </tbody>\n",
              "</table>\n",
              "<p>43736 rows × 20 columns</p>\n",
              "</div>"
            ],
            "text/plain": [
              "         eventId subEventName  tags_0_id  ...  tags_3_id  tags_4_id  tags_5_id\n",
              "68            10         Shot      402.0  ...     1801.0        NaN        NaN\n",
              "90            10         Shot      401.0  ...     1802.0        NaN        NaN\n",
              "213           10         Shot      402.0  ...        NaN        NaN        NaN\n",
              "426           10         Shot     1901.0  ...     1210.0     1802.0        NaN\n",
              "435           10         Shot     1901.0  ...     1802.0        NaN        NaN\n",
              "...          ...          ...        ...  ...        ...        ...        ...\n",
              "3250906       10         Shot      101.0  ...     1205.0     1801.0        NaN\n",
              "3250992       10         Shot      402.0  ...     1802.0        NaN        NaN\n",
              "3251028       10         Shot      401.0  ...        NaN        NaN        NaN\n",
              "3251155       10         Shot      401.0  ...     1801.0        NaN        NaN\n",
              "3251188       10         Shot      402.0  ...     1802.0        NaN        NaN\n",
              "\n",
              "[43736 rows x 20 columns]"
            ]
          },
          "metadata": {
            "tags": []
          },
          "execution_count": 9
        }
      ]
    },
    {
      "cell_type": "code",
      "metadata": {
        "id": "x55-PlK8awiE",
        "colab_type": "code",
        "outputId": "fc8e6615-ffcb-4f58-f735-e7ef48d70b89",
        "colab": {
          "base_uri": "https://localhost:8080/",
          "height": 224
        }
      },
      "source": [
        "df_shot = df[(df['eventId'] == 10)]\n",
        "df_shot.head()"
      ],
      "execution_count": 0,
      "outputs": [
        {
          "output_type": "execute_result",
          "data": {
            "text/html": [
              "<div>\n",
              "<style scoped>\n",
              "    .dataframe tbody tr th:only-of-type {\n",
              "        vertical-align: middle;\n",
              "    }\n",
              "\n",
              "    .dataframe tbody tr th {\n",
              "        vertical-align: top;\n",
              "    }\n",
              "\n",
              "    .dataframe thead th {\n",
              "        text-align: right;\n",
              "    }\n",
              "</style>\n",
              "<table border=\"1\" class=\"dataframe\">\n",
              "  <thead>\n",
              "    <tr style=\"text-align: right;\">\n",
              "      <th></th>\n",
              "      <th>eventId</th>\n",
              "      <th>subEventName</th>\n",
              "      <th>tags_0_id</th>\n",
              "      <th>playerId</th>\n",
              "      <th>positions_0_y</th>\n",
              "      <th>positions_0_x</th>\n",
              "      <th>positions_1_y</th>\n",
              "      <th>positions_1_x</th>\n",
              "      <th>matchId</th>\n",
              "      <th>eventName</th>\n",
              "      <th>teamId</th>\n",
              "      <th>matchPeriod</th>\n",
              "      <th>eventSec</th>\n",
              "      <th>subEventId</th>\n",
              "      <th>id</th>\n",
              "      <th>tags_1_id</th>\n",
              "      <th>tags_2_id</th>\n",
              "      <th>tags_3_id</th>\n",
              "      <th>tags_4_id</th>\n",
              "      <th>tags_5_id</th>\n",
              "    </tr>\n",
              "  </thead>\n",
              "  <tbody>\n",
              "    <tr>\n",
              "      <th>68</th>\n",
              "      <td>10</td>\n",
              "      <td>Shot</td>\n",
              "      <td>402.0</td>\n",
              "      <td>21077</td>\n",
              "      <td>41</td>\n",
              "      <td>80</td>\n",
              "      <td>0.0</td>\n",
              "      <td>0.0</td>\n",
              "      <td>2575959</td>\n",
              "      <td>Shot</td>\n",
              "      <td>3172</td>\n",
              "      <td>1H</td>\n",
              "      <td>193.924279</td>\n",
              "      <td>100</td>\n",
              "      <td>180424028</td>\n",
              "      <td>201.0</td>\n",
              "      <td>1203.0</td>\n",
              "      <td>1801.0</td>\n",
              "      <td>NaN</td>\n",
              "      <td>NaN</td>\n",
              "    </tr>\n",
              "    <tr>\n",
              "      <th>90</th>\n",
              "      <td>10</td>\n",
              "      <td>Shot</td>\n",
              "      <td>401.0</td>\n",
              "      <td>8327</td>\n",
              "      <td>33</td>\n",
              "      <td>95</td>\n",
              "      <td>100.0</td>\n",
              "      <td>100.0</td>\n",
              "      <td>2575959</td>\n",
              "      <td>Shot</td>\n",
              "      <td>3158</td>\n",
              "      <td>1H</td>\n",
              "      <td>250.843152</td>\n",
              "      <td>100</td>\n",
              "      <td>180424079</td>\n",
              "      <td>201.0</td>\n",
              "      <td>1210.0</td>\n",
              "      <td>1802.0</td>\n",
              "      <td>NaN</td>\n",
              "      <td>NaN</td>\n",
              "    </tr>\n",
              "    <tr>\n",
              "      <th>213</th>\n",
              "      <td>10</td>\n",
              "      <td>Shot</td>\n",
              "      <td>402.0</td>\n",
              "      <td>20879</td>\n",
              "      <td>63</td>\n",
              "      <td>72</td>\n",
              "      <td>100.0</td>\n",
              "      <td>100.0</td>\n",
              "      <td>2575959</td>\n",
              "      <td>Shot</td>\n",
              "      <td>3158</td>\n",
              "      <td>1H</td>\n",
              "      <td>633.577774</td>\n",
              "      <td>100</td>\n",
              "      <td>180424208</td>\n",
              "      <td>2101.0</td>\n",
              "      <td>1802.0</td>\n",
              "      <td>NaN</td>\n",
              "      <td>NaN</td>\n",
              "      <td>NaN</td>\n",
              "    </tr>\n",
              "    <tr>\n",
              "      <th>426</th>\n",
              "      <td>10</td>\n",
              "      <td>Shot</td>\n",
              "      <td>1901.0</td>\n",
              "      <td>23149</td>\n",
              "      <td>62</td>\n",
              "      <td>91</td>\n",
              "      <td>100.0</td>\n",
              "      <td>100.0</td>\n",
              "      <td>2575959</td>\n",
              "      <td>Shot</td>\n",
              "      <td>3158</td>\n",
              "      <td>1H</td>\n",
              "      <td>1359.469422</td>\n",
              "      <td>100</td>\n",
              "      <td>180424444</td>\n",
              "      <td>402.0</td>\n",
              "      <td>201.0</td>\n",
              "      <td>1210.0</td>\n",
              "      <td>1802.0</td>\n",
              "      <td>NaN</td>\n",
              "    </tr>\n",
              "    <tr>\n",
              "      <th>435</th>\n",
              "      <td>10</td>\n",
              "      <td>Shot</td>\n",
              "      <td>1901.0</td>\n",
              "      <td>295176</td>\n",
              "      <td>26</td>\n",
              "      <td>86</td>\n",
              "      <td>0.0</td>\n",
              "      <td>0.0</td>\n",
              "      <td>2575959</td>\n",
              "      <td>Shot</td>\n",
              "      <td>3172</td>\n",
              "      <td>1H</td>\n",
              "      <td>1412.601525</td>\n",
              "      <td>100</td>\n",
              "      <td>180424409</td>\n",
              "      <td>401.0</td>\n",
              "      <td>1216.0</td>\n",
              "      <td>1802.0</td>\n",
              "      <td>NaN</td>\n",
              "      <td>NaN</td>\n",
              "    </tr>\n",
              "  </tbody>\n",
              "</table>\n",
              "</div>"
            ],
            "text/plain": [
              "     eventId subEventName  tags_0_id  ...  tags_3_id  tags_4_id  tags_5_id\n",
              "68        10         Shot      402.0  ...     1801.0        NaN        NaN\n",
              "90        10         Shot      401.0  ...     1802.0        NaN        NaN\n",
              "213       10         Shot      402.0  ...        NaN        NaN        NaN\n",
              "426       10         Shot     1901.0  ...     1210.0     1802.0        NaN\n",
              "435       10         Shot     1901.0  ...     1802.0        NaN        NaN\n",
              "\n",
              "[5 rows x 20 columns]"
            ]
          },
          "metadata": {
            "tags": []
          },
          "execution_count": 18
        }
      ]
    },
    {
      "cell_type": "code",
      "metadata": {
        "id": "TT--4kJP_TpU",
        "colab_type": "code",
        "outputId": "71114d93-0eb6-461b-ab32-a79f73bf5b9f",
        "colab": {
          "base_uri": "https://localhost:8080/",
          "height": 171
        }
      },
      "source": [
        "#some Penalty have x pos as 10 i.e was taken in the other side of the pitch\n",
        "#Don't have to run this cell\n",
        "df_shot.loc[df_shot['subEventName'] == 'Penalty', 'positions_0_x'] = 89\n",
        "df_shot[df_shot['subEventName'] == 'Penalty']"
      ],
      "execution_count": 0,
      "outputs": [
        {
          "output_type": "stream",
          "text": [
            "/usr/local/lib/python3.6/dist-packages/pandas/core/indexing.py:966: SettingWithCopyWarning: \n",
            "A value is trying to be set on a copy of a slice from a DataFrame.\n",
            "Try using .loc[row_indexer,col_indexer] = value instead\n",
            "\n",
            "See the caveats in the documentation: https://pandas.pydata.org/pandas-docs/stable/user_guide/indexing.html#returning-a-view-versus-a-copy\n",
            "  self.obj[item] = s\n"
          ],
          "name": "stderr"
        },
        {
          "output_type": "execute_result",
          "data": {
            "text/html": [
              "<div>\n",
              "<style scoped>\n",
              "    .dataframe tbody tr th:only-of-type {\n",
              "        vertical-align: middle;\n",
              "    }\n",
              "\n",
              "    .dataframe tbody tr th {\n",
              "        vertical-align: top;\n",
              "    }\n",
              "\n",
              "    .dataframe thead th {\n",
              "        text-align: right;\n",
              "    }\n",
              "</style>\n",
              "<table border=\"1\" class=\"dataframe\">\n",
              "  <thead>\n",
              "    <tr style=\"text-align: right;\">\n",
              "      <th></th>\n",
              "      <th>eventId</th>\n",
              "      <th>subEventName</th>\n",
              "      <th>tags_0_id</th>\n",
              "      <th>playerId</th>\n",
              "      <th>positions_0_y</th>\n",
              "      <th>positions_0_x</th>\n",
              "      <th>positions_1_y</th>\n",
              "      <th>positions_1_x</th>\n",
              "      <th>matchId</th>\n",
              "      <th>eventName</th>\n",
              "      <th>teamId</th>\n",
              "      <th>matchPeriod</th>\n",
              "      <th>eventSec</th>\n",
              "      <th>subEventId</th>\n",
              "      <th>id</th>\n",
              "      <th>tags_1_id</th>\n",
              "      <th>tags_2_id</th>\n",
              "      <th>tags_3_id</th>\n",
              "      <th>tags_4_id</th>\n",
              "      <th>tags_5_id</th>\n",
              "    </tr>\n",
              "  </thead>\n",
              "  <tbody>\n",
              "  </tbody>\n",
              "</table>\n",
              "</div>"
            ],
            "text/plain": [
              "Empty DataFrame\n",
              "Columns: [eventId, subEventName, tags_0_id, playerId, positions_0_y, positions_0_x, positions_1_y, positions_1_x, matchId, eventName, teamId, matchPeriod, eventSec, subEventId, id, tags_1_id, tags_2_id, tags_3_id, tags_4_id, tags_5_id]\n",
              "Index: []"
            ]
          },
          "metadata": {
            "tags": []
          },
          "execution_count": 20
        }
      ]
    },
    {
      "cell_type": "code",
      "metadata": {
        "id": "clwMT7hhbGbT",
        "colab_type": "code",
        "outputId": "0fe426aa-d9a3-413f-9a3f-59196b09bc99",
        "colab": {
          "base_uri": "https://localhost:8080/",
          "height": 428
        }
      },
      "source": [
        "df_shot['isGoal'] = False\n",
        "df_shot.loc[df_shot.id.isin(goals_lst),'isGoal'] = True\n",
        "df_shot.head()"
      ],
      "execution_count": 0,
      "outputs": [
        {
          "output_type": "stream",
          "text": [
            "/usr/local/lib/python3.6/dist-packages/ipykernel_launcher.py:1: SettingWithCopyWarning: \n",
            "A value is trying to be set on a copy of a slice from a DataFrame.\n",
            "Try using .loc[row_indexer,col_indexer] = value instead\n",
            "\n",
            "See the caveats in the documentation: https://pandas.pydata.org/pandas-docs/stable/user_guide/indexing.html#returning-a-view-versus-a-copy\n",
            "  \"\"\"Entry point for launching an IPython kernel.\n",
            "/usr/local/lib/python3.6/dist-packages/pandas/core/indexing.py:966: SettingWithCopyWarning: \n",
            "A value is trying to be set on a copy of a slice from a DataFrame.\n",
            "Try using .loc[row_indexer,col_indexer] = value instead\n",
            "\n",
            "See the caveats in the documentation: https://pandas.pydata.org/pandas-docs/stable/user_guide/indexing.html#returning-a-view-versus-a-copy\n",
            "  self.obj[item] = s\n"
          ],
          "name": "stderr"
        },
        {
          "output_type": "execute_result",
          "data": {
            "text/html": [
              "<div>\n",
              "<style scoped>\n",
              "    .dataframe tbody tr th:only-of-type {\n",
              "        vertical-align: middle;\n",
              "    }\n",
              "\n",
              "    .dataframe tbody tr th {\n",
              "        vertical-align: top;\n",
              "    }\n",
              "\n",
              "    .dataframe thead th {\n",
              "        text-align: right;\n",
              "    }\n",
              "</style>\n",
              "<table border=\"1\" class=\"dataframe\">\n",
              "  <thead>\n",
              "    <tr style=\"text-align: right;\">\n",
              "      <th></th>\n",
              "      <th>eventId</th>\n",
              "      <th>subEventName</th>\n",
              "      <th>tags_0_id</th>\n",
              "      <th>playerId</th>\n",
              "      <th>positions_0_y</th>\n",
              "      <th>positions_0_x</th>\n",
              "      <th>positions_1_y</th>\n",
              "      <th>positions_1_x</th>\n",
              "      <th>matchId</th>\n",
              "      <th>eventName</th>\n",
              "      <th>teamId</th>\n",
              "      <th>matchPeriod</th>\n",
              "      <th>eventSec</th>\n",
              "      <th>subEventId</th>\n",
              "      <th>id</th>\n",
              "      <th>tags_1_id</th>\n",
              "      <th>tags_2_id</th>\n",
              "      <th>tags_3_id</th>\n",
              "      <th>tags_4_id</th>\n",
              "      <th>tags_5_id</th>\n",
              "      <th>isGoal</th>\n",
              "    </tr>\n",
              "  </thead>\n",
              "  <tbody>\n",
              "    <tr>\n",
              "      <th>68</th>\n",
              "      <td>10</td>\n",
              "      <td>Shot</td>\n",
              "      <td>402.0</td>\n",
              "      <td>21077</td>\n",
              "      <td>41</td>\n",
              "      <td>80</td>\n",
              "      <td>0.0</td>\n",
              "      <td>0.0</td>\n",
              "      <td>2575959</td>\n",
              "      <td>Shot</td>\n",
              "      <td>3172</td>\n",
              "      <td>1H</td>\n",
              "      <td>193.924279</td>\n",
              "      <td>100</td>\n",
              "      <td>180424028</td>\n",
              "      <td>201.0</td>\n",
              "      <td>1203.0</td>\n",
              "      <td>1801.0</td>\n",
              "      <td>NaN</td>\n",
              "      <td>NaN</td>\n",
              "      <td>False</td>\n",
              "    </tr>\n",
              "    <tr>\n",
              "      <th>90</th>\n",
              "      <td>10</td>\n",
              "      <td>Shot</td>\n",
              "      <td>401.0</td>\n",
              "      <td>8327</td>\n",
              "      <td>33</td>\n",
              "      <td>95</td>\n",
              "      <td>100.0</td>\n",
              "      <td>100.0</td>\n",
              "      <td>2575959</td>\n",
              "      <td>Shot</td>\n",
              "      <td>3158</td>\n",
              "      <td>1H</td>\n",
              "      <td>250.843152</td>\n",
              "      <td>100</td>\n",
              "      <td>180424079</td>\n",
              "      <td>201.0</td>\n",
              "      <td>1210.0</td>\n",
              "      <td>1802.0</td>\n",
              "      <td>NaN</td>\n",
              "      <td>NaN</td>\n",
              "      <td>False</td>\n",
              "    </tr>\n",
              "    <tr>\n",
              "      <th>213</th>\n",
              "      <td>10</td>\n",
              "      <td>Shot</td>\n",
              "      <td>402.0</td>\n",
              "      <td>20879</td>\n",
              "      <td>63</td>\n",
              "      <td>72</td>\n",
              "      <td>100.0</td>\n",
              "      <td>100.0</td>\n",
              "      <td>2575959</td>\n",
              "      <td>Shot</td>\n",
              "      <td>3158</td>\n",
              "      <td>1H</td>\n",
              "      <td>633.577774</td>\n",
              "      <td>100</td>\n",
              "      <td>180424208</td>\n",
              "      <td>2101.0</td>\n",
              "      <td>1802.0</td>\n",
              "      <td>NaN</td>\n",
              "      <td>NaN</td>\n",
              "      <td>NaN</td>\n",
              "      <td>False</td>\n",
              "    </tr>\n",
              "    <tr>\n",
              "      <th>426</th>\n",
              "      <td>10</td>\n",
              "      <td>Shot</td>\n",
              "      <td>1901.0</td>\n",
              "      <td>23149</td>\n",
              "      <td>62</td>\n",
              "      <td>91</td>\n",
              "      <td>100.0</td>\n",
              "      <td>100.0</td>\n",
              "      <td>2575959</td>\n",
              "      <td>Shot</td>\n",
              "      <td>3158</td>\n",
              "      <td>1H</td>\n",
              "      <td>1359.469422</td>\n",
              "      <td>100</td>\n",
              "      <td>180424444</td>\n",
              "      <td>402.0</td>\n",
              "      <td>201.0</td>\n",
              "      <td>1210.0</td>\n",
              "      <td>1802.0</td>\n",
              "      <td>NaN</td>\n",
              "      <td>False</td>\n",
              "    </tr>\n",
              "    <tr>\n",
              "      <th>435</th>\n",
              "      <td>10</td>\n",
              "      <td>Shot</td>\n",
              "      <td>1901.0</td>\n",
              "      <td>295176</td>\n",
              "      <td>26</td>\n",
              "      <td>86</td>\n",
              "      <td>0.0</td>\n",
              "      <td>0.0</td>\n",
              "      <td>2575959</td>\n",
              "      <td>Shot</td>\n",
              "      <td>3172</td>\n",
              "      <td>1H</td>\n",
              "      <td>1412.601525</td>\n",
              "      <td>100</td>\n",
              "      <td>180424409</td>\n",
              "      <td>401.0</td>\n",
              "      <td>1216.0</td>\n",
              "      <td>1802.0</td>\n",
              "      <td>NaN</td>\n",
              "      <td>NaN</td>\n",
              "      <td>False</td>\n",
              "    </tr>\n",
              "  </tbody>\n",
              "</table>\n",
              "</div>"
            ],
            "text/plain": [
              "     eventId subEventName  tags_0_id  ...  tags_4_id  tags_5_id  isGoal\n",
              "68        10         Shot      402.0  ...        NaN        NaN   False\n",
              "90        10         Shot      401.0  ...        NaN        NaN   False\n",
              "213       10         Shot      402.0  ...        NaN        NaN   False\n",
              "426       10         Shot     1901.0  ...     1802.0        NaN   False\n",
              "435       10         Shot     1901.0  ...        NaN        NaN   False\n",
              "\n",
              "[5 rows x 21 columns]"
            ]
          },
          "metadata": {
            "tags": []
          },
          "execution_count": 21
        }
      ]
    },
    {
      "cell_type": "markdown",
      "metadata": {
        "id": "1YMM5ZZgBcOH",
        "colab_type": "text"
      },
      "source": [
        "Lets plot a few shots and have a look\n"
      ]
    },
    {
      "cell_type": "markdown",
      "metadata": {
        "id": "B8ZP43rlUmMA",
        "colab_type": "text"
      },
      "source": [
        "# **Wyscout Pitch** Diagram\n",
        "https://figshare.com/articles/Plots_replication_code_of_Nature_Scientific_Data_paper/11473365"
      ]
    },
    {
      "cell_type": "code",
      "metadata": {
        "id": "2MO6-xkbsuhK",
        "colab_type": "code",
        "colab": {}
      },
      "source": [
        "def pitch():\n",
        "    \"\"\"code to plot a soccer pitch\"\"\"\n",
        "    #create figure\n",
        "    fig,ax=plt.subplots(figsize=(10.4,6.8))\n",
        "\n",
        "    #Pitch Outline & Centre Line\n",
        "    plt.plot([0,0],[0,100], color=\"black\")\n",
        "    plt.plot([0,100],[100,100], color=\"black\")\n",
        "    plt.plot([100,100],[100,0], color=\"black\")\n",
        "    plt.plot([100,0],[0,0], color=\"black\")\n",
        "    plt.plot([50,50],[0,100], color=\"black\")\n",
        "\n",
        "    #Left Penalty Area\n",
        "    plt.plot([16.5,16.5],[80,20],color=\"black\")\n",
        "    plt.plot([0,16.5],[80,80],color=\"black\")\n",
        "    plt.plot([16.5,0],[20,20],color=\"black\")\n",
        "\n",
        "    #Right Penalty Area\n",
        "    plt.plot([83.5,100],[80,80],color=\"black\")\n",
        "    plt.plot([83.5,83.5],[80,20],color=\"black\")\n",
        "    plt.plot([83.5,100],[20,20],color=\"black\")\n",
        "\n",
        "    #Left 6-yard Box\n",
        "    plt.plot([0,5.5],[65,65],color=\"black\")\n",
        "    plt.plot([5.5,5.5],[65,35],color=\"black\")\n",
        "    plt.plot([5.5,0.5],[35,35],color=\"black\")\n",
        "\n",
        "    #Right 6-yard Box\n",
        "    plt.plot([100,94.5],[65,65],color=\"black\")\n",
        "    plt.plot([94.5,94.5],[65,35],color=\"black\")\n",
        "    plt.plot([94.5,100],[35,35],color=\"black\")\n",
        "\n",
        "    \"\"\"Author Koushik\"\"\"\n",
        "    #Right Goal post\n",
        "    plt.plot([100,100.4],[46,46],color=\"black\")\n",
        "    plt.plot([100,100.4],[54,54],color=\"black\")\n",
        "    plt.plot([100.4,100.4],[54,46],color=\"black\")\n",
        "\n",
        "    #Left Goal post\n",
        "    plt.plot([0,-0.4],[46,46],color=\"black\")\n",
        "    plt.plot([0,-0.4],[54,54],color=\"black\")\n",
        "    plt.plot([-0.4,-0.4],[54,46],color=\"black\")\n",
        "\n",
        "    #Prepare Circles\n",
        "    centreCircle = Ellipse((50, 50), width=30, height=39, edgecolor=\"black\", facecolor=\"None\", lw=1.8, zorder=2,alpha=1)\n",
        "    centreSpot = Ellipse((50, 50), width=1, height=1.5, edgecolor=\"black\", facecolor=\"black\", lw=1.8, zorder=2,alpha=1)\n",
        "    leftPenSpot = Ellipse((11, 50), width=1, height=1.5, edgecolor=\"black\", facecolor=\"black\", lw=1.8, zorder=2,alpha=1)\n",
        "    rightPenSpot = Ellipse((89, 50), width=1, height=1.5, edgecolor=\"black\", facecolor=\"black\", lw=1.8, zorder=2,alpha=1)\n",
        "    rec3 = plt.Rectangle((-0, -0), 100,100,ls='-',color='#195905', zorder=1,alpha=1)\n",
        "\n",
        "    #Draw Circles\n",
        "    ax.add_artist(rec3)\n",
        "    ax.add_patch(centreCircle)\n",
        "    ax.add_patch(centreSpot)\n",
        "    ax.add_patch(leftPenSpot)\n",
        "    ax.add_patch(rightPenSpot)\n",
        "\n",
        "    #limit axis\n",
        "    plt.xlim(-2,102)\n",
        "    plt.ylim(-2,102)\n",
        "\n",
        "    ax.annotate(\"\", xy=(25, 5), xytext=(5, 5),\n",
        "    arrowprops=dict(arrowstyle=\"->\", linewidth=2))\n",
        "    ax.text(7,7,'Attack',fontsize=20)\n",
        "    return fig,ax"
      ],
      "execution_count": 0,
      "outputs": []
    },
    {
      "cell_type": "code",
      "metadata": {
        "id": "VzJP07VS-5sV",
        "colab_type": "code",
        "outputId": "43814c6f-8329-4448-b367-a69fa4ea06a9",
        "colab": {
          "base_uri": "https://localhost:8080/",
          "height": 34
        }
      },
      "source": [
        "df_shot[df_shot['subEventName'] == 'Penalty']['positions_0_x'].value_counts()"
      ],
      "execution_count": 0,
      "outputs": [
        {
          "output_type": "execute_result",
          "data": {
            "text/plain": [
              "Series([], Name: positions_0_x, dtype: int64)"
            ]
          },
          "metadata": {
            "tags": []
          },
          "execution_count": 17
        }
      ]
    },
    {
      "cell_type": "markdown",
      "metadata": {
        "id": "81G0WVwXVJua",
        "colab_type": "text"
      },
      "source": [
        "Visualize Goals"
      ]
    },
    {
      "cell_type": "code",
      "metadata": {
        "id": "GmY31moCGyzH",
        "colab_type": "code",
        "colab": {}
      },
      "source": [
        "gol = df_shot[df_shot['isGoal'] ==True ]"
      ],
      "execution_count": 0,
      "outputs": []
    },
    {
      "cell_type": "code",
      "metadata": {
        "id": "UpnsuRcQcVX_",
        "colab_type": "code",
        "outputId": "c492ef85-9295-41f4-b72d-a99a7a4de95e",
        "colab": {
          "base_uri": "https://localhost:8080/",
          "height": 418
        }
      },
      "source": [
        "import matplotlib.pyplot as plt\n",
        "pitch()\n",
        "\n",
        "#plt.plot([65,65],[0,90], color=\"pink\")\n",
        "\n",
        "for i in range(len(gol)):\n",
        "    xe = gol.iloc[i]['positions_0_x']\n",
        "    ye = gol.iloc[i]['positions_0_y']\n",
        "    g = plt.scatter(xe,ye,color=\"red\",edgecolors=\"black\",zorder=10,alpha=1)\n",
        "plt.axis('on')\n",
        "plt.show()    "
      ],
      "execution_count": 0,
      "outputs": [
        {
          "output_type": "display_data",
          "data": {
            "image/png": "[encoded data removed]",
            "text/plain": [
              "<Figure size 748.8x489.6 with 1 Axes>"
            ]
          },
          "metadata": {
            "tags": [],
            "needs_background": "light"
          }
        }
      ]
    },
    {
      "cell_type": "markdown",
      "metadata": {
        "id": "2K7TpFVObA4J",
        "colab_type": "text"
      },
      "source": [
        "What happened before the Shot ?"
      ]
    },
    {
      "cell_type": "code",
      "metadata": {
        "id": "Y3tvNVq_bAa2",
        "colab_type": "code",
        "outputId": "1ffc2255-df02-4d58-aeba-39257005eb6a",
        "colab": {
          "base_uri": "https://localhost:8080/",
          "height": 34
        }
      },
      "source": [
        "#subtract 1 from the shot id hope its True\n",
        "arr = df_shot.index.to_numpy()\n",
        "for i in range(len(arr)):\n",
        "  arr[i] = arr[i] -1\n",
        "len(arr)"
      ],
      "execution_count": 0,
      "outputs": [
        {
          "output_type": "execute_result",
          "data": {
            "text/plain": [
              "43078"
            ]
          },
          "metadata": {
            "tags": []
          },
          "execution_count": 24
        }
      ]
    },
    {
      "cell_type": "code",
      "metadata": {
        "id": "OzfrvVVybSU6",
        "colab_type": "code",
        "outputId": "2c7b2525-2b5b-4112-e8ba-4e06d5b714b8",
        "colab": {
          "base_uri": "https://localhost:8080/",
          "height": 507
        }
      },
      "source": [
        "df_before_shot = df[df.index.isin(arr)]\n",
        "#add one to id of df_before_shot so as to join to df_shot dataframe\n",
        "#df_before_shot['id'] +=1\n",
        "df_before_shot"
      ],
      "execution_count": 0,
      "outputs": [
        {
          "output_type": "execute_result",
          "data": {
            "text/html": [
              "<div>\n",
              "<style scoped>\n",
              "    .dataframe tbody tr th:only-of-type {\n",
              "        vertical-align: middle;\n",
              "    }\n",
              "\n",
              "    .dataframe tbody tr th {\n",
              "        vertical-align: top;\n",
              "    }\n",
              "\n",
              "    .dataframe thead th {\n",
              "        text-align: right;\n",
              "    }\n",
              "</style>\n",
              "<table border=\"1\" class=\"dataframe\">\n",
              "  <thead>\n",
              "    <tr style=\"text-align: right;\">\n",
              "      <th></th>\n",
              "      <th>eventId</th>\n",
              "      <th>subEventName</th>\n",
              "      <th>tags_0_id</th>\n",
              "      <th>playerId</th>\n",
              "      <th>positions_0_y</th>\n",
              "      <th>positions_0_x</th>\n",
              "      <th>positions_1_y</th>\n",
              "      <th>positions_1_x</th>\n",
              "      <th>matchId</th>\n",
              "      <th>eventName</th>\n",
              "      <th>teamId</th>\n",
              "      <th>matchPeriod</th>\n",
              "      <th>eventSec</th>\n",
              "      <th>subEventId</th>\n",
              "      <th>id</th>\n",
              "      <th>tags_1_id</th>\n",
              "      <th>tags_2_id</th>\n",
              "      <th>tags_3_id</th>\n",
              "      <th>tags_4_id</th>\n",
              "      <th>tags_5_id</th>\n",
              "    </tr>\n",
              "  </thead>\n",
              "  <tbody>\n",
              "    <tr>\n",
              "      <th>67</th>\n",
              "      <td>1</td>\n",
              "      <td>Ground attacking duel</td>\n",
              "      <td>504.0</td>\n",
              "      <td>21077</td>\n",
              "      <td>18</td>\n",
              "      <td>37</td>\n",
              "      <td>41.0</td>\n",
              "      <td>80.0</td>\n",
              "      <td>2575959</td>\n",
              "      <td>Duel</td>\n",
              "      <td>3172</td>\n",
              "      <td>1H</td>\n",
              "      <td>191.621429</td>\n",
              "      <td>11</td>\n",
              "      <td>180424027</td>\n",
              "      <td>703.0</td>\n",
              "      <td>1801.0</td>\n",
              "      <td>NaN</td>\n",
              "      <td>NaN</td>\n",
              "      <td>NaN</td>\n",
              "    </tr>\n",
              "    <tr>\n",
              "      <th>89</th>\n",
              "      <td>8</td>\n",
              "      <td>High pass</td>\n",
              "      <td>302.0</td>\n",
              "      <td>114</td>\n",
              "      <td>75</td>\n",
              "      <td>71</td>\n",
              "      <td>33.0</td>\n",
              "      <td>95.0</td>\n",
              "      <td>2575959</td>\n",
              "      <td>Pass</td>\n",
              "      <td>3158</td>\n",
              "      <td>1H</td>\n",
              "      <td>247.586484</td>\n",
              "      <td>83</td>\n",
              "      <td>180424076</td>\n",
              "      <td>901.0</td>\n",
              "      <td>1801.0</td>\n",
              "      <td>NaN</td>\n",
              "      <td>NaN</td>\n",
              "      <td>NaN</td>\n",
              "    </tr>\n",
              "    <tr>\n",
              "      <th>212</th>\n",
              "      <td>8</td>\n",
              "      <td>Simple pass</td>\n",
              "      <td>1801.0</td>\n",
              "      <td>23149</td>\n",
              "      <td>66</td>\n",
              "      <td>77</td>\n",
              "      <td>63.0</td>\n",
              "      <td>72.0</td>\n",
              "      <td>2575959</td>\n",
              "      <td>Pass</td>\n",
              "      <td>3158</td>\n",
              "      <td>1H</td>\n",
              "      <td>631.457147</td>\n",
              "      <td>85</td>\n",
              "      <td>180424207</td>\n",
              "      <td>NaN</td>\n",
              "      <td>NaN</td>\n",
              "      <td>NaN</td>\n",
              "      <td>NaN</td>\n",
              "      <td>NaN</td>\n",
              "    </tr>\n",
              "    <tr>\n",
              "      <th>425</th>\n",
              "      <td>8</td>\n",
              "      <td>Smart pass</td>\n",
              "      <td>302.0</td>\n",
              "      <td>44251</td>\n",
              "      <td>77</td>\n",
              "      <td>69</td>\n",
              "      <td>62.0</td>\n",
              "      <td>91.0</td>\n",
              "      <td>2575959</td>\n",
              "      <td>Pass</td>\n",
              "      <td>3158</td>\n",
              "      <td>1H</td>\n",
              "      <td>1357.201318</td>\n",
              "      <td>86</td>\n",
              "      <td>180424439</td>\n",
              "      <td>1901.0</td>\n",
              "      <td>1801.0</td>\n",
              "      <td>NaN</td>\n",
              "      <td>NaN</td>\n",
              "      <td>NaN</td>\n",
              "    </tr>\n",
              "    <tr>\n",
              "      <th>434</th>\n",
              "      <td>8</td>\n",
              "      <td>Simple pass</td>\n",
              "      <td>1901.0</td>\n",
              "      <td>21077</td>\n",
              "      <td>16</td>\n",
              "      <td>90</td>\n",
              "      <td>26.0</td>\n",
              "      <td>86.0</td>\n",
              "      <td>2575959</td>\n",
              "      <td>Pass</td>\n",
              "      <td>3172</td>\n",
              "      <td>1H</td>\n",
              "      <td>1411.238369</td>\n",
              "      <td>85</td>\n",
              "      <td>180424404</td>\n",
              "      <td>1801.0</td>\n",
              "      <td>NaN</td>\n",
              "      <td>NaN</td>\n",
              "      <td>NaN</td>\n",
              "      <td>NaN</td>\n",
              "    </tr>\n",
              "    <tr>\n",
              "      <th>...</th>\n",
              "      <td>...</td>\n",
              "      <td>...</td>\n",
              "      <td>...</td>\n",
              "      <td>...</td>\n",
              "      <td>...</td>\n",
              "      <td>...</td>\n",
              "      <td>...</td>\n",
              "      <td>...</td>\n",
              "      <td>...</td>\n",
              "      <td>...</td>\n",
              "      <td>...</td>\n",
              "      <td>...</td>\n",
              "      <td>...</td>\n",
              "      <td>...</td>\n",
              "      <td>...</td>\n",
              "      <td>...</td>\n",
              "      <td>...</td>\n",
              "      <td>...</td>\n",
              "      <td>...</td>\n",
              "      <td>...</td>\n",
              "    </tr>\n",
              "    <tr>\n",
              "      <th>3250905</th>\n",
              "      <td>1</td>\n",
              "      <td>Ground defending duel</td>\n",
              "      <td>501.0</td>\n",
              "      <td>14943</td>\n",
              "      <td>54</td>\n",
              "      <td>94</td>\n",
              "      <td>53.0</td>\n",
              "      <td>92.0</td>\n",
              "      <td>2058017</td>\n",
              "      <td>Duel</td>\n",
              "      <td>9598</td>\n",
              "      <td>2H</td>\n",
              "      <td>1388.157139</td>\n",
              "      <td>12</td>\n",
              "      <td>263885258</td>\n",
              "      <td>703.0</td>\n",
              "      <td>1801.0</td>\n",
              "      <td>NaN</td>\n",
              "      <td>NaN</td>\n",
              "      <td>NaN</td>\n",
              "    </tr>\n",
              "    <tr>\n",
              "      <th>3250991</th>\n",
              "      <td>8</td>\n",
              "      <td>Simple pass</td>\n",
              "      <td>1801.0</td>\n",
              "      <td>69968</td>\n",
              "      <td>20</td>\n",
              "      <td>57</td>\n",
              "      <td>61.0</td>\n",
              "      <td>65.0</td>\n",
              "      <td>2058017</td>\n",
              "      <td>Pass</td>\n",
              "      <td>9598</td>\n",
              "      <td>2H</td>\n",
              "      <td>1798.035328</td>\n",
              "      <td>85</td>\n",
              "      <td>263885297</td>\n",
              "      <td>NaN</td>\n",
              "      <td>NaN</td>\n",
              "      <td>NaN</td>\n",
              "      <td>NaN</td>\n",
              "      <td>NaN</td>\n",
              "    </tr>\n",
              "    <tr>\n",
              "      <th>3251027</th>\n",
              "      <td>7</td>\n",
              "      <td>Touch</td>\n",
              "      <td>NaN</td>\n",
              "      <td>69411</td>\n",
              "      <td>29</td>\n",
              "      <td>90</td>\n",
              "      <td>33.0</td>\n",
              "      <td>81.0</td>\n",
              "      <td>2058017</td>\n",
              "      <td>Others on the ball</td>\n",
              "      <td>9598</td>\n",
              "      <td>2H</td>\n",
              "      <td>1932.975578</td>\n",
              "      <td>72</td>\n",
              "      <td>263885346</td>\n",
              "      <td>NaN</td>\n",
              "      <td>NaN</td>\n",
              "      <td>NaN</td>\n",
              "      <td>NaN</td>\n",
              "      <td>NaN</td>\n",
              "    </tr>\n",
              "    <tr>\n",
              "      <th>3251154</th>\n",
              "      <td>1</td>\n",
              "      <td>Ground defending duel</td>\n",
              "      <td>501.0</td>\n",
              "      <td>69968</td>\n",
              "      <td>14</td>\n",
              "      <td>23</td>\n",
              "      <td>24.0</td>\n",
              "      <td>22.0</td>\n",
              "      <td>2058017</td>\n",
              "      <td>Duel</td>\n",
              "      <td>9598</td>\n",
              "      <td>2H</td>\n",
              "      <td>2484.797699</td>\n",
              "      <td>12</td>\n",
              "      <td>263885709</td>\n",
              "      <td>701.0</td>\n",
              "      <td>1802.0</td>\n",
              "      <td>NaN</td>\n",
              "      <td>NaN</td>\n",
              "      <td>NaN</td>\n",
              "    </tr>\n",
              "    <tr>\n",
              "      <th>3251187</th>\n",
              "      <td>8</td>\n",
              "      <td>Simple pass</td>\n",
              "      <td>1801.0</td>\n",
              "      <td>69411</td>\n",
              "      <td>18</td>\n",
              "      <td>82</td>\n",
              "      <td>29.0</td>\n",
              "      <td>70.0</td>\n",
              "      <td>2058017</td>\n",
              "      <td>Pass</td>\n",
              "      <td>9598</td>\n",
              "      <td>2H</td>\n",
              "      <td>2588.181603</td>\n",
              "      <td>85</td>\n",
              "      <td>263885572</td>\n",
              "      <td>NaN</td>\n",
              "      <td>NaN</td>\n",
              "      <td>NaN</td>\n",
              "      <td>NaN</td>\n",
              "      <td>NaN</td>\n",
              "    </tr>\n",
              "  </tbody>\n",
              "</table>\n",
              "<p>43078 rows × 20 columns</p>\n",
              "</div>"
            ],
            "text/plain": [
              "         eventId           subEventName  ...  tags_4_id  tags_5_id\n",
              "67             1  Ground attacking duel  ...        NaN        NaN\n",
              "89             8              High pass  ...        NaN        NaN\n",
              "212            8            Simple pass  ...        NaN        NaN\n",
              "425            8             Smart pass  ...        NaN        NaN\n",
              "434            8            Simple pass  ...        NaN        NaN\n",
              "...          ...                    ...  ...        ...        ...\n",
              "3250905        1  Ground defending duel  ...        NaN        NaN\n",
              "3250991        8            Simple pass  ...        NaN        NaN\n",
              "3251027        7                  Touch  ...        NaN        NaN\n",
              "3251154        1  Ground defending duel  ...        NaN        NaN\n",
              "3251187        8            Simple pass  ...        NaN        NaN\n",
              "\n",
              "[43078 rows x 20 columns]"
            ]
          },
          "metadata": {
            "tags": []
          },
          "execution_count": 25
        }
      ]
    },
    {
      "cell_type": "markdown",
      "metadata": {
        "id": "Cz2gZ1r4bs8Q",
        "colab_type": "text"
      },
      "source": [
        "Type of Pass which led to shot"
      ]
    },
    {
      "cell_type": "code",
      "metadata": {
        "id": "sI6LFflbbrgB",
        "colab_type": "code",
        "colab": {}
      },
      "source": [
        "# find the pass which led to shot if any\n",
        "def pass_type(record):\n",
        "  \n",
        "  if record['subEventId'] == 80 or record['subEventId'] == 81 or record['subEventId'] == 82  or record['subEventId'] == 82  or record['subEventId'] == 84  or record['subEventId'] == 85 or record['subEventId'] == 86:   \n",
        "    if record['subEventId'] == 80:\n",
        "      return 1 #cross\n",
        "    if record['subEventId'] == 81:\n",
        "      return 2 #hand pass\n",
        "    if record['subEventId'] == 82:\n",
        "      return 3 #head pass\n",
        "    if record['subEventId'] == 83:\n",
        "      return 4 #high pass\n",
        "    if record['subEventId'] == 84:\n",
        "      return 5 #Launch\n",
        "    if record['subEventId'] == 85:\n",
        "      return 6 #simple pass\n",
        "    return 7   #smart pass   \n",
        "  return 0 #no pass"
      ],
      "execution_count": 0,
      "outputs": []
    },
    {
      "cell_type": "markdown",
      "metadata": {
        "id": "OubZ6e3GhQ8a",
        "colab_type": "text"
      },
      "source": [
        "Type of Duel before Shot"
      ]
    },
    {
      "cell_type": "code",
      "metadata": {
        "id": "5GThVnK0hGzb",
        "colab_type": "code",
        "colab": {}
      },
      "source": [
        "duel_arr = [10,11,12,13]\n",
        "def duel_type(record):\n",
        "  if record['subEventId'] in duel_arr:\n",
        "    if record['subEventId'] == 10:\n",
        "      return 1\n",
        "    if record['subEventId'] == 11:\n",
        "      return 2\n",
        "    if record['subEventId'] == 12:\n",
        "      return 3\n",
        "    if record['subEventId'] == 13:\n",
        "      return 4  \n",
        "  return 0 \n",
        "#if record['subEventId'] == 80 or record['subEventId'] == 81 or record['subEventId'] == 82  or record['subEventId'] == 82  or record['subEventId'] == 84  or record['subEventId'] == 85 or record['subEventId'] == 86:   "
      ],
      "execution_count": 0,
      "outputs": []
    },
    {
      "cell_type": "markdown",
      "metadata": {
        "id": "2qj96jR9jE6I",
        "colab_type": "text"
      },
      "source": [
        "Is Shot after a Freekick ?"
      ]
    },
    {
      "cell_type": "code",
      "metadata": {
        "id": "pCQ_ggWeiW9i",
        "colab_type": "code",
        "colab": {}
      },
      "source": [
        "freek_arr = [30,31,32,33,34,35,36]\n",
        "def open_play(record):\n",
        "  if record['subEventId'] in freek_arr:\n",
        "    return 1\n",
        "  return 0"
      ],
      "execution_count": 0,
      "outputs": []
    },
    {
      "cell_type": "code",
      "metadata": {
        "id": "82rfVOaAdcUI",
        "colab_type": "code",
        "outputId": "34ec93da-2f03-4ef1-c70c-5de6bda51f2c",
        "colab": {
          "base_uri": "https://localhost:8080/",
          "height": 547
        }
      },
      "source": [
        "df_before_shot['DuelType'] = df_before_shot.apply(duel_type,axis = 1)\n",
        "df_before_shot['PassType'] = df_before_shot.apply(pass_type,axis = 1)\n",
        "df_before_shot['OpenPlay'] = df_before_shot.apply(open_play,axis = 1)\n",
        "df_before_shot.head()"
      ],
      "execution_count": 0,
      "outputs": [
        {
          "output_type": "stream",
          "text": [
            "/usr/local/lib/python3.6/dist-packages/ipykernel_launcher.py:1: SettingWithCopyWarning: \n",
            "A value is trying to be set on a copy of a slice from a DataFrame.\n",
            "Try using .loc[row_indexer,col_indexer] = value instead\n",
            "\n",
            "See the caveats in the documentation: https://pandas.pydata.org/pandas-docs/stable/user_guide/indexing.html#returning-a-view-versus-a-copy\n",
            "  \"\"\"Entry point for launching an IPython kernel.\n",
            "/usr/local/lib/python3.6/dist-packages/ipykernel_launcher.py:2: SettingWithCopyWarning: \n",
            "A value is trying to be set on a copy of a slice from a DataFrame.\n",
            "Try using .loc[row_indexer,col_indexer] = value instead\n",
            "\n",
            "See the caveats in the documentation: https://pandas.pydata.org/pandas-docs/stable/user_guide/indexing.html#returning-a-view-versus-a-copy\n",
            "  \n",
            "/usr/local/lib/python3.6/dist-packages/ipykernel_launcher.py:3: SettingWithCopyWarning: \n",
            "A value is trying to be set on a copy of a slice from a DataFrame.\n",
            "Try using .loc[row_indexer,col_indexer] = value instead\n",
            "\n",
            "See the caveats in the documentation: https://pandas.pydata.org/pandas-docs/stable/user_guide/indexing.html#returning-a-view-versus-a-copy\n",
            "  This is separate from the ipykernel package so we can avoid doing imports until\n"
          ],
          "name": "stderr"
        },
        {
          "output_type": "execute_result",
          "data": {
            "text/html": [
              "<div>\n",
              "<style scoped>\n",
              "    .dataframe tbody tr th:only-of-type {\n",
              "        vertical-align: middle;\n",
              "    }\n",
              "\n",
              "    .dataframe tbody tr th {\n",
              "        vertical-align: top;\n",
              "    }\n",
              "\n",
              "    .dataframe thead th {\n",
              "        text-align: right;\n",
              "    }\n",
              "</style>\n",
              "<table border=\"1\" class=\"dataframe\">\n",
              "  <thead>\n",
              "    <tr style=\"text-align: right;\">\n",
              "      <th></th>\n",
              "      <th>eventId</th>\n",
              "      <th>subEventName</th>\n",
              "      <th>tags_0_id</th>\n",
              "      <th>playerId</th>\n",
              "      <th>positions_0_y</th>\n",
              "      <th>positions_0_x</th>\n",
              "      <th>positions_1_y</th>\n",
              "      <th>positions_1_x</th>\n",
              "      <th>matchId</th>\n",
              "      <th>eventName</th>\n",
              "      <th>teamId</th>\n",
              "      <th>matchPeriod</th>\n",
              "      <th>eventSec</th>\n",
              "      <th>subEventId</th>\n",
              "      <th>id</th>\n",
              "      <th>tags_1_id</th>\n",
              "      <th>tags_2_id</th>\n",
              "      <th>tags_3_id</th>\n",
              "      <th>tags_4_id</th>\n",
              "      <th>tags_5_id</th>\n",
              "      <th>DuelType</th>\n",
              "      <th>PassType</th>\n",
              "      <th>OpenPlay</th>\n",
              "    </tr>\n",
              "  </thead>\n",
              "  <tbody>\n",
              "    <tr>\n",
              "      <th>67</th>\n",
              "      <td>1</td>\n",
              "      <td>Ground attacking duel</td>\n",
              "      <td>504.0</td>\n",
              "      <td>21077</td>\n",
              "      <td>18</td>\n",
              "      <td>37</td>\n",
              "      <td>41.0</td>\n",
              "      <td>80.0</td>\n",
              "      <td>2575959</td>\n",
              "      <td>Duel</td>\n",
              "      <td>3172</td>\n",
              "      <td>1H</td>\n",
              "      <td>191.621429</td>\n",
              "      <td>11</td>\n",
              "      <td>180424027</td>\n",
              "      <td>703.0</td>\n",
              "      <td>1801.0</td>\n",
              "      <td>NaN</td>\n",
              "      <td>NaN</td>\n",
              "      <td>NaN</td>\n",
              "      <td>2</td>\n",
              "      <td>0</td>\n",
              "      <td>0</td>\n",
              "    </tr>\n",
              "    <tr>\n",
              "      <th>89</th>\n",
              "      <td>8</td>\n",
              "      <td>High pass</td>\n",
              "      <td>302.0</td>\n",
              "      <td>114</td>\n",
              "      <td>75</td>\n",
              "      <td>71</td>\n",
              "      <td>33.0</td>\n",
              "      <td>95.0</td>\n",
              "      <td>2575959</td>\n",
              "      <td>Pass</td>\n",
              "      <td>3158</td>\n",
              "      <td>1H</td>\n",
              "      <td>247.586484</td>\n",
              "      <td>83</td>\n",
              "      <td>180424076</td>\n",
              "      <td>901.0</td>\n",
              "      <td>1801.0</td>\n",
              "      <td>NaN</td>\n",
              "      <td>NaN</td>\n",
              "      <td>NaN</td>\n",
              "      <td>0</td>\n",
              "      <td>0</td>\n",
              "      <td>0</td>\n",
              "    </tr>\n",
              "    <tr>\n",
              "      <th>212</th>\n",
              "      <td>8</td>\n",
              "      <td>Simple pass</td>\n",
              "      <td>1801.0</td>\n",
              "      <td>23149</td>\n",
              "      <td>66</td>\n",
              "      <td>77</td>\n",
              "      <td>63.0</td>\n",
              "      <td>72.0</td>\n",
              "      <td>2575959</td>\n",
              "      <td>Pass</td>\n",
              "      <td>3158</td>\n",
              "      <td>1H</td>\n",
              "      <td>631.457147</td>\n",
              "      <td>85</td>\n",
              "      <td>180424207</td>\n",
              "      <td>NaN</td>\n",
              "      <td>NaN</td>\n",
              "      <td>NaN</td>\n",
              "      <td>NaN</td>\n",
              "      <td>NaN</td>\n",
              "      <td>0</td>\n",
              "      <td>6</td>\n",
              "      <td>0</td>\n",
              "    </tr>\n",
              "    <tr>\n",
              "      <th>425</th>\n",
              "      <td>8</td>\n",
              "      <td>Smart pass</td>\n",
              "      <td>302.0</td>\n",
              "      <td>44251</td>\n",
              "      <td>77</td>\n",
              "      <td>69</td>\n",
              "      <td>62.0</td>\n",
              "      <td>91.0</td>\n",
              "      <td>2575959</td>\n",
              "      <td>Pass</td>\n",
              "      <td>3158</td>\n",
              "      <td>1H</td>\n",
              "      <td>1357.201318</td>\n",
              "      <td>86</td>\n",
              "      <td>180424439</td>\n",
              "      <td>1901.0</td>\n",
              "      <td>1801.0</td>\n",
              "      <td>NaN</td>\n",
              "      <td>NaN</td>\n",
              "      <td>NaN</td>\n",
              "      <td>0</td>\n",
              "      <td>7</td>\n",
              "      <td>0</td>\n",
              "    </tr>\n",
              "    <tr>\n",
              "      <th>434</th>\n",
              "      <td>8</td>\n",
              "      <td>Simple pass</td>\n",
              "      <td>1901.0</td>\n",
              "      <td>21077</td>\n",
              "      <td>16</td>\n",
              "      <td>90</td>\n",
              "      <td>26.0</td>\n",
              "      <td>86.0</td>\n",
              "      <td>2575959</td>\n",
              "      <td>Pass</td>\n",
              "      <td>3172</td>\n",
              "      <td>1H</td>\n",
              "      <td>1411.238369</td>\n",
              "      <td>85</td>\n",
              "      <td>180424404</td>\n",
              "      <td>1801.0</td>\n",
              "      <td>NaN</td>\n",
              "      <td>NaN</td>\n",
              "      <td>NaN</td>\n",
              "      <td>NaN</td>\n",
              "      <td>0</td>\n",
              "      <td>6</td>\n",
              "      <td>0</td>\n",
              "    </tr>\n",
              "  </tbody>\n",
              "</table>\n",
              "</div>"
            ],
            "text/plain": [
              "     eventId           subEventName  tags_0_id  ...  DuelType  PassType  OpenPlay\n",
              "67         1  Ground attacking duel      504.0  ...         2         0         0\n",
              "89         8              High pass      302.0  ...         0         0         0\n",
              "212        8            Simple pass     1801.0  ...         0         6         0\n",
              "425        8             Smart pass      302.0  ...         0         7         0\n",
              "434        8            Simple pass     1901.0  ...         0         6         0\n",
              "\n",
              "[5 rows x 23 columns]"
            ]
          },
          "metadata": {
            "tags": []
          },
          "execution_count": 30
        }
      ]
    },
    {
      "cell_type": "markdown",
      "metadata": {
        "id": "GD-Acmrgv0VW",
        "colab_type": "text"
      },
      "source": [
        "## **Coordinate** considered for right goal post (100,54) and (100,46)"
      ]
    },
    {
      "cell_type": "code",
      "metadata": {
        "id": "ue49i-F5KHSV",
        "colab_type": "code",
        "colab": {}
      },
      "source": [
        "def distFormula(coordinate):\n",
        "  a =(math.sqrt(((coordinate.positions_0_x - 100)**2) + ((coordinate.positions_0_y - 46)**2))) \n",
        "  b =(math.sqrt(((coordinate.positions_0_x - 100)**2) + ((coordinate.positions_0_y - 54)**2))) \n",
        "  return ((a+b)/2)"
      ],
      "execution_count": 0,
      "outputs": []
    },
    {
      "cell_type": "markdown",
      "metadata": {
        "id": "2rHaaagtzF38",
        "colab_type": "text"
      },
      "source": [
        "**Angle formula here** \n",
        "https://stackoverflow.com/questions/1211212/how-to-calculate-an-angle-from-three-points"
      ]
    },
    {
      "cell_type": "code",
      "metadata": {
        "id": "3c9CBueQdlXD",
        "colab_type": "code",
        "colab": {}
      },
      "source": [
        "\"\"\" near x y (nx,ny) (100,54)and far x y (fx,fy) (100,46)\"\"\" \n",
        "nx = 100\n",
        "ny = 54\n",
        "fx = 100\n",
        "fy = 46\n",
        "\n",
        "goalpostLength = 8\n",
        "def shot_angle(points):\n",
        "  len1 = (math.sqrt(((points.positions_0_x - nx)**2) + ((points.positions_0_y - ny)**2))) \n",
        "  len2 = (math.sqrt(((points.positions_0_x - fx)**2) + ((points.positions_0_y - fy)**2)))\n",
        "  ang = (len1**2 + len2**2 - goalpostLength**2)/(2 * len1 * len2)\n",
        "  angRad = math.acos(ang)\n",
        "  return( (angRad * 180)/math.pi) "
      ],
      "execution_count": 0,
      "outputs": []
    },
    {
      "cell_type": "markdown",
      "metadata": {
        "id": "unYfHQJBL2Jz",
        "colab_type": "text"
      },
      "source": [
        "Shot Body part"
      ]
    },
    {
      "cell_type": "code",
      "metadata": {
        "id": "SYEVyAtRLzc2",
        "colab_type": "code",
        "colab": {}
      },
      "source": [
        "#findout the body part with which shot was taken from\n",
        "def shot_part(record):\n",
        "  if record['tags_0_id'] == 401 or record['tags_1_id'] == 401 or record['tags_2_id'] == 401 or record['tags_3_id'] == 401 or record['tags_4_id'] == 401 or record['tags_5_id'] == 401:\n",
        "    return 1 #left value\n",
        "  elif record['tags_0_id'] == 402 or record['tags_1_id'] == 402 or record['tags_2_id'] == 402 or record['tags_3_id'] == 402 or record['tags_4_id'] == 402 or record['tags_5_id'] == 402:\n",
        "    return 1 #right value\n",
        "  elif record['tags_0_id'] == 403 or record['tags_1_id'] == 403 or record['tags_2_id'] == 403 or record['tags_3_id'] == 403 or record['tags_4_id'] == 403 or record['tags_5_id'] == 403:\n",
        "    return 2 #head value    "
      ],
      "execution_count": 0,
      "outputs": []
    },
    {
      "cell_type": "markdown",
      "metadata": {
        "id": "USWK_zM8QcPM",
        "colab_type": "text"
      },
      "source": [
        "If attack was a counter attack"
      ]
    },
    {
      "cell_type": "code",
      "metadata": {
        "id": "YrOyM9ARQh6I",
        "colab_type": "code",
        "colab": {}
      },
      "source": [
        "# findout if shot was a result of counter attack\n",
        "def playtype(record):\n",
        "  if record['tags_0_id'] == 1901 or record['tags_1_id'] == 1901 or record['tags_2_id'] == 1901 or record['tags_3_id'] == 1901 or record['tags_4_id'] == 1901 or record['tags_5_id'] == 1901:\n",
        "    return 1 #counter attack\n",
        "  return 0  "
      ],
      "execution_count": 0,
      "outputs": []
    },
    {
      "cell_type": "code",
      "metadata": {
        "id": "u25MpeBh1Wyh",
        "colab_type": "code",
        "outputId": "fb59c9a1-b1f7-48ae-b950-f75d616fa074",
        "colab": {
          "base_uri": "https://localhost:8080/",
          "height": 459
        }
      },
      "source": [
        "%%time\n",
        "df_shot['angle'] = df_shot.apply(shot_angle,axis = 1)\n",
        "df_shot['Distance'] =  df_shot.apply(distFormula,axis = 1)\n",
        "df_shot['body_part'] = df_shot.apply(shot_part,axis = 1)\n",
        "df_shot['counterAttack'] = df_shot.apply(playtype,axis = 1)"
      ],
      "execution_count": 0,
      "outputs": [
        {
          "output_type": "stream",
          "text": [
            "/usr/local/lib/python3.6/dist-packages/ipykernel_launcher.py:1: SettingWithCopyWarning: \n",
            "A value is trying to be set on a copy of a slice from a DataFrame.\n",
            "Try using .loc[row_indexer,col_indexer] = value instead\n",
            "\n",
            "See the caveats in the documentation: https://pandas.pydata.org/pandas-docs/stable/user_guide/indexing.html#returning-a-view-versus-a-copy\n",
            "  \"\"\"Entry point for launching an IPython kernel.\n",
            "/usr/local/lib/python3.6/dist-packages/ipykernel_launcher.py:2: SettingWithCopyWarning: \n",
            "A value is trying to be set on a copy of a slice from a DataFrame.\n",
            "Try using .loc[row_indexer,col_indexer] = value instead\n",
            "\n",
            "See the caveats in the documentation: https://pandas.pydata.org/pandas-docs/stable/user_guide/indexing.html#returning-a-view-versus-a-copy\n",
            "  \n",
            "/usr/local/lib/python3.6/dist-packages/ipykernel_launcher.py:3: SettingWithCopyWarning: \n",
            "A value is trying to be set on a copy of a slice from a DataFrame.\n",
            "Try using .loc[row_indexer,col_indexer] = value instead\n",
            "\n",
            "See the caveats in the documentation: https://pandas.pydata.org/pandas-docs/stable/user_guide/indexing.html#returning-a-view-versus-a-copy\n",
            "  This is separate from the ipykernel package so we can avoid doing imports until\n"
          ],
          "name": "stderr"
        },
        {
          "output_type": "stream",
          "text": [
            "CPU times: user 10.7 s, sys: 0 ns, total: 10.7 s\n",
            "Wall time: 10.7 s\n"
          ],
          "name": "stdout"
        },
        {
          "output_type": "stream",
          "text": [
            "/usr/local/lib/python3.6/dist-packages/ipykernel_launcher.py:4: SettingWithCopyWarning: \n",
            "A value is trying to be set on a copy of a slice from a DataFrame.\n",
            "Try using .loc[row_indexer,col_indexer] = value instead\n",
            "\n",
            "See the caveats in the documentation: https://pandas.pydata.org/pandas-docs/stable/user_guide/indexing.html#returning-a-view-versus-a-copy\n",
            "  after removing the cwd from sys.path.\n"
          ],
          "name": "stderr"
        }
      ]
    },
    {
      "cell_type": "code",
      "metadata": {
        "id": "p5adpzMwkQea",
        "colab_type": "code",
        "colab": {}
      },
      "source": [
        "df_shot = df_shot.join(df_before_shot,how='inner',rsuffix='bef_sht')\n",
        "#pd.merge(df_shot,df_before_shot,how='inner',left_on = index, right_on=index)"
      ],
      "execution_count": 0,
      "outputs": []
    },
    {
      "cell_type": "code",
      "metadata": {
        "id": "zhmuHpgmqpyM",
        "colab_type": "code",
        "outputId": "4963e3f1-8f37-4b87-9ce0-6169b48b6450",
        "colab": {
          "base_uri": "https://localhost:8080/",
          "height": 224
        }
      },
      "source": [
        "df_shot.head()"
      ],
      "execution_count": 0,
      "outputs": [
        {
          "output_type": "execute_result",
          "data": {
            "text/html": [
              "<div>\n",
              "<style scoped>\n",
              "    .dataframe tbody tr th:only-of-type {\n",
              "        vertical-align: middle;\n",
              "    }\n",
              "\n",
              "    .dataframe tbody tr th {\n",
              "        vertical-align: top;\n",
              "    }\n",
              "\n",
              "    .dataframe thead th {\n",
              "        text-align: right;\n",
              "    }\n",
              "</style>\n",
              "<table border=\"1\" class=\"dataframe\">\n",
              "  <thead>\n",
              "    <tr style=\"text-align: right;\">\n",
              "      <th></th>\n",
              "      <th>eventId</th>\n",
              "      <th>subEventName</th>\n",
              "      <th>tags_0_id</th>\n",
              "      <th>playerId</th>\n",
              "      <th>positions_0_y</th>\n",
              "      <th>positions_0_x</th>\n",
              "      <th>positions_1_y</th>\n",
              "      <th>positions_1_x</th>\n",
              "      <th>matchId</th>\n",
              "      <th>eventName</th>\n",
              "      <th>teamId</th>\n",
              "      <th>matchPeriod</th>\n",
              "      <th>eventSec</th>\n",
              "      <th>subEventId</th>\n",
              "      <th>id</th>\n",
              "      <th>tags_1_id</th>\n",
              "      <th>tags_2_id</th>\n",
              "      <th>tags_3_id</th>\n",
              "      <th>tags_4_id</th>\n",
              "      <th>tags_5_id</th>\n",
              "      <th>isGoal</th>\n",
              "      <th>angle</th>\n",
              "      <th>Distance</th>\n",
              "      <th>body_part</th>\n",
              "      <th>counterAttack</th>\n",
              "      <th>eventIdbef_sht</th>\n",
              "      <th>subEventNamebef_sht</th>\n",
              "      <th>tags_0_idbef_sht</th>\n",
              "      <th>playerIdbef_sht</th>\n",
              "      <th>positions_0_ybef_sht</th>\n",
              "      <th>positions_0_xbef_sht</th>\n",
              "      <th>positions_1_ybef_sht</th>\n",
              "      <th>positions_1_xbef_sht</th>\n",
              "      <th>matchIdbef_sht</th>\n",
              "      <th>eventNamebef_sht</th>\n",
              "      <th>teamIdbef_sht</th>\n",
              "      <th>matchPeriodbef_sht</th>\n",
              "      <th>eventSecbef_sht</th>\n",
              "      <th>subEventIdbef_sht</th>\n",
              "      <th>idbef_sht</th>\n",
              "      <th>tags_1_idbef_sht</th>\n",
              "      <th>tags_2_idbef_sht</th>\n",
              "      <th>tags_3_idbef_sht</th>\n",
              "      <th>tags_4_idbef_sht</th>\n",
              "      <th>tags_5_idbef_sht</th>\n",
              "      <th>DuelType</th>\n",
              "      <th>PassType</th>\n",
              "      <th>OpenPlay</th>\n",
              "    </tr>\n",
              "  </thead>\n",
              "  <tbody>\n",
              "    <tr>\n",
              "      <th>67</th>\n",
              "      <td>10</td>\n",
              "      <td>Shot</td>\n",
              "      <td>402.0</td>\n",
              "      <td>21077</td>\n",
              "      <td>41</td>\n",
              "      <td>80</td>\n",
              "      <td>0.0</td>\n",
              "      <td>0.0</td>\n",
              "      <td>2575959</td>\n",
              "      <td>Shot</td>\n",
              "      <td>3172</td>\n",
              "      <td>1H</td>\n",
              "      <td>193.924279</td>\n",
              "      <td>100</td>\n",
              "      <td>180424028</td>\n",
              "      <td>201.0</td>\n",
              "      <td>1203.0</td>\n",
              "      <td>1801.0</td>\n",
              "      <td>NaN</td>\n",
              "      <td>NaN</td>\n",
              "      <td>False</td>\n",
              "      <td>18.987624</td>\n",
              "      <td>22.234625</td>\n",
              "      <td>1</td>\n",
              "      <td>0</td>\n",
              "      <td>1</td>\n",
              "      <td>Ground attacking duel</td>\n",
              "      <td>504.0</td>\n",
              "      <td>21077</td>\n",
              "      <td>18</td>\n",
              "      <td>37</td>\n",
              "      <td>41.0</td>\n",
              "      <td>80.0</td>\n",
              "      <td>2575959</td>\n",
              "      <td>Duel</td>\n",
              "      <td>3172</td>\n",
              "      <td>1H</td>\n",
              "      <td>191.621429</td>\n",
              "      <td>11</td>\n",
              "      <td>180424027</td>\n",
              "      <td>703.0</td>\n",
              "      <td>1801.0</td>\n",
              "      <td>NaN</td>\n",
              "      <td>NaN</td>\n",
              "      <td>NaN</td>\n",
              "      <td>2</td>\n",
              "      <td>0</td>\n",
              "      <td>0</td>\n",
              "    </tr>\n",
              "    <tr>\n",
              "      <th>89</th>\n",
              "      <td>10</td>\n",
              "      <td>Shot</td>\n",
              "      <td>401.0</td>\n",
              "      <td>8327</td>\n",
              "      <td>33</td>\n",
              "      <td>95</td>\n",
              "      <td>100.0</td>\n",
              "      <td>100.0</td>\n",
              "      <td>2575959</td>\n",
              "      <td>Shot</td>\n",
              "      <td>3158</td>\n",
              "      <td>1H</td>\n",
              "      <td>250.843152</td>\n",
              "      <td>100</td>\n",
              "      <td>180424079</td>\n",
              "      <td>201.0</td>\n",
              "      <td>1210.0</td>\n",
              "      <td>1802.0</td>\n",
              "      <td>NaN</td>\n",
              "      <td>NaN</td>\n",
              "      <td>False</td>\n",
              "      <td>7.645013</td>\n",
              "      <td>17.757711</td>\n",
              "      <td>1</td>\n",
              "      <td>0</td>\n",
              "      <td>8</td>\n",
              "      <td>High pass</td>\n",
              "      <td>302.0</td>\n",
              "      <td>114</td>\n",
              "      <td>75</td>\n",
              "      <td>71</td>\n",
              "      <td>33.0</td>\n",
              "      <td>95.0</td>\n",
              "      <td>2575959</td>\n",
              "      <td>Pass</td>\n",
              "      <td>3158</td>\n",
              "      <td>1H</td>\n",
              "      <td>247.586484</td>\n",
              "      <td>83</td>\n",
              "      <td>180424076</td>\n",
              "      <td>901.0</td>\n",
              "      <td>1801.0</td>\n",
              "      <td>NaN</td>\n",
              "      <td>NaN</td>\n",
              "      <td>NaN</td>\n",
              "      <td>0</td>\n",
              "      <td>0</td>\n",
              "      <td>0</td>\n",
              "    </tr>\n",
              "    <tr>\n",
              "      <th>212</th>\n",
              "      <td>10</td>\n",
              "      <td>Shot</td>\n",
              "      <td>402.0</td>\n",
              "      <td>20879</td>\n",
              "      <td>63</td>\n",
              "      <td>72</td>\n",
              "      <td>100.0</td>\n",
              "      <td>100.0</td>\n",
              "      <td>2575959</td>\n",
              "      <td>Shot</td>\n",
              "      <td>3158</td>\n",
              "      <td>1H</td>\n",
              "      <td>633.577774</td>\n",
              "      <td>100</td>\n",
              "      <td>180424208</td>\n",
              "      <td>2101.0</td>\n",
              "      <td>1802.0</td>\n",
              "      <td>NaN</td>\n",
              "      <td>NaN</td>\n",
              "      <td>NaN</td>\n",
              "      <td>False</td>\n",
              "      <td>13.444843</td>\n",
              "      <td>31.083781</td>\n",
              "      <td>1</td>\n",
              "      <td>0</td>\n",
              "      <td>8</td>\n",
              "      <td>Simple pass</td>\n",
              "      <td>1801.0</td>\n",
              "      <td>23149</td>\n",
              "      <td>66</td>\n",
              "      <td>77</td>\n",
              "      <td>63.0</td>\n",
              "      <td>72.0</td>\n",
              "      <td>2575959</td>\n",
              "      <td>Pass</td>\n",
              "      <td>3158</td>\n",
              "      <td>1H</td>\n",
              "      <td>631.457147</td>\n",
              "      <td>85</td>\n",
              "      <td>180424207</td>\n",
              "      <td>NaN</td>\n",
              "      <td>NaN</td>\n",
              "      <td>NaN</td>\n",
              "      <td>NaN</td>\n",
              "      <td>NaN</td>\n",
              "      <td>0</td>\n",
              "      <td>6</td>\n",
              "      <td>0</td>\n",
              "    </tr>\n",
              "    <tr>\n",
              "      <th>425</th>\n",
              "      <td>10</td>\n",
              "      <td>Shot</td>\n",
              "      <td>1901.0</td>\n",
              "      <td>23149</td>\n",
              "      <td>62</td>\n",
              "      <td>91</td>\n",
              "      <td>100.0</td>\n",
              "      <td>100.0</td>\n",
              "      <td>2575959</td>\n",
              "      <td>Shot</td>\n",
              "      <td>3158</td>\n",
              "      <td>1H</td>\n",
              "      <td>1359.469422</td>\n",
              "      <td>100</td>\n",
              "      <td>180424444</td>\n",
              "      <td>402.0</td>\n",
              "      <td>201.0</td>\n",
              "      <td>1210.0</td>\n",
              "      <td>1802.0</td>\n",
              "      <td>NaN</td>\n",
              "      <td>False</td>\n",
              "      <td>19.008707</td>\n",
              "      <td>15.199577</td>\n",
              "      <td>1</td>\n",
              "      <td>1</td>\n",
              "      <td>8</td>\n",
              "      <td>Smart pass</td>\n",
              "      <td>302.0</td>\n",
              "      <td>44251</td>\n",
              "      <td>77</td>\n",
              "      <td>69</td>\n",
              "      <td>62.0</td>\n",
              "      <td>91.0</td>\n",
              "      <td>2575959</td>\n",
              "      <td>Pass</td>\n",
              "      <td>3158</td>\n",
              "      <td>1H</td>\n",
              "      <td>1357.201318</td>\n",
              "      <td>86</td>\n",
              "      <td>180424439</td>\n",
              "      <td>1901.0</td>\n",
              "      <td>1801.0</td>\n",
              "      <td>NaN</td>\n",
              "      <td>NaN</td>\n",
              "      <td>NaN</td>\n",
              "      <td>0</td>\n",
              "      <td>7</td>\n",
              "      <td>0</td>\n",
              "    </tr>\n",
              "    <tr>\n",
              "      <th>434</th>\n",
              "      <td>10</td>\n",
              "      <td>Shot</td>\n",
              "      <td>1901.0</td>\n",
              "      <td>295176</td>\n",
              "      <td>26</td>\n",
              "      <td>86</td>\n",
              "      <td>0.0</td>\n",
              "      <td>0.0</td>\n",
              "      <td>2575959</td>\n",
              "      <td>Shot</td>\n",
              "      <td>3172</td>\n",
              "      <td>1H</td>\n",
              "      <td>1412.601525</td>\n",
              "      <td>100</td>\n",
              "      <td>180424409</td>\n",
              "      <td>401.0</td>\n",
              "      <td>1216.0</td>\n",
              "      <td>1802.0</td>\n",
              "      <td>NaN</td>\n",
              "      <td>NaN</td>\n",
              "      <td>False</td>\n",
              "      <td>8.426969</td>\n",
              "      <td>27.859031</td>\n",
              "      <td>1</td>\n",
              "      <td>1</td>\n",
              "      <td>8</td>\n",
              "      <td>Simple pass</td>\n",
              "      <td>1901.0</td>\n",
              "      <td>21077</td>\n",
              "      <td>16</td>\n",
              "      <td>90</td>\n",
              "      <td>26.0</td>\n",
              "      <td>86.0</td>\n",
              "      <td>2575959</td>\n",
              "      <td>Pass</td>\n",
              "      <td>3172</td>\n",
              "      <td>1H</td>\n",
              "      <td>1411.238369</td>\n",
              "      <td>85</td>\n",
              "      <td>180424404</td>\n",
              "      <td>1801.0</td>\n",
              "      <td>NaN</td>\n",
              "      <td>NaN</td>\n",
              "      <td>NaN</td>\n",
              "      <td>NaN</td>\n",
              "      <td>0</td>\n",
              "      <td>6</td>\n",
              "      <td>0</td>\n",
              "    </tr>\n",
              "  </tbody>\n",
              "</table>\n",
              "</div>"
            ],
            "text/plain": [
              "     eventId subEventName  tags_0_id  ...  DuelType  PassType  OpenPlay\n",
              "67        10         Shot      402.0  ...         2         0         0\n",
              "89        10         Shot      401.0  ...         0         0         0\n",
              "212       10         Shot      402.0  ...         0         6         0\n",
              "425       10         Shot     1901.0  ...         0         7         0\n",
              "434       10         Shot     1901.0  ...         0         6         0\n",
              "\n",
              "[5 rows x 48 columns]"
            ]
          },
          "metadata": {
            "tags": []
          },
          "execution_count": 37
        }
      ]
    },
    {
      "cell_type": "markdown",
      "metadata": {
        "id": "eWDeKoCkqsVu",
        "colab_type": "text"
      },
      "source": [
        ""
      ]
    },
    {
      "cell_type": "markdown",
      "metadata": {
        "id": "sN_VwYoaVoOj",
        "colab_type": "text"
      },
      "source": [
        "# **Building xG Model/s**"
      ]
    },
    {
      "cell_type": "markdown",
      "metadata": {
        "id": "Gs96960jJozJ",
        "colab_type": "text"
      },
      "source": [
        "Importing Required ML models"
      ]
    },
    {
      "cell_type": "code",
      "metadata": {
        "id": "XnAsAZW0Jn0p",
        "colab_type": "code",
        "colab": {}
      },
      "source": [
        "from sklearn.model_selection import train_test_split\n",
        "from sklearn.linear_model import LogisticRegression\n",
        "import xgboost as xgb\n",
        "from sklearn import svm\n",
        "from sklearn import linear_model"
      ],
      "execution_count": 0,
      "outputs": []
    },
    {
      "cell_type": "code",
      "metadata": {
        "id": "GoazHAUpMdOK",
        "colab_type": "code",
        "colab": {}
      },
      "source": [
        "xgModel = df_shot[['Distance','angle','isGoal','body_part','counterAttack','positions_0_x','positions_0_y','DuelType',\t'PassType',\t'OpenPlay']]"
      ],
      "execution_count": 0,
      "outputs": []
    },
    {
      "cell_type": "code",
      "metadata": {
        "id": "uhYhHihcHxjJ",
        "colab_type": "code",
        "colab": {}
      },
      "source": [
        "X_train,X_test,y_train,y_test = train_test_split(xgModel[['Distance','angle','body_part','counterAttack','positions_0_x','positions_0_y','DuelType',\t'PassType',\t'OpenPlay']],xgModel['isGoal'],test_size = 0.2,shuffle = True)"
      ],
      "execution_count": 0,
      "outputs": []
    },
    {
      "cell_type": "markdown",
      "metadata": {
        "id": "k9A-Hr12iplC",
        "colab_type": "text"
      },
      "source": [
        "**Logistic Regression** for xG"
      ]
    },
    {
      "cell_type": "code",
      "metadata": {
        "id": "jliepjDzISxU",
        "colab_type": "code",
        "colab": {}
      },
      "source": [
        "clf = LogisticRegression(random_state=0,max_iter = 5000).fit(X_train, y_train)"
      ],
      "execution_count": 0,
      "outputs": []
    },
    {
      "cell_type": "code",
      "metadata": {
        "id": "C4RoEVF7RPcW",
        "colab_type": "code",
        "outputId": "23fff4f8-e98d-4603-a44d-c8f49d40850f",
        "colab": {
          "base_uri": "https://localhost:8080/",
          "height": 51
        }
      },
      "source": [
        "#model weights\n",
        "clf.coef_[0]"
      ],
      "execution_count": 0,
      "outputs": [
        {
          "output_type": "execute_result",
          "data": {
            "text/plain": [
              "array([-0.07860825,  0.020428  , -0.87442354,  0.59938498,  0.06113528,\n",
              "       -0.00281177, -0.02426686,  0.04170474, -0.37948765])"
            ]
          },
          "metadata": {
            "tags": []
          },
          "execution_count": 42
        }
      ]
    },
    {
      "cell_type": "code",
      "metadata": {
        "id": "8bYASfLzLTWH",
        "colab_type": "code",
        "colab": {}
      },
      "source": [
        "xG = clf.predict_proba(X_test)[:,1]"
      ],
      "execution_count": 0,
      "outputs": []
    },
    {
      "cell_type": "markdown",
      "metadata": {
        "id": "PdpE9wdnjnqZ",
        "colab_type": "text"
      },
      "source": [
        "**SGDClassifier** for xG with fine tuning alpha parameter"
      ]
    },
    {
      "cell_type": "code",
      "metadata": {
        "id": "qNXV2VrbjFkv",
        "colab_type": "code",
        "outputId": "926ebb01-9425-499f-89c5-504b1757610d",
        "colab": {
          "base_uri": "https://localhost:8080/",
          "height": 119
        }
      },
      "source": [
        "sgdclf = linear_model.SGDClassifier(loss='log', alpha = 0.17)\n",
        "sgdclf.fit(X_train, y_train)"
      ],
      "execution_count": 0,
      "outputs": [
        {
          "output_type": "execute_result",
          "data": {
            "text/plain": [
              "SGDClassifier(alpha=0.17, average=False, class_weight=None,\n",
              "              early_stopping=False, epsilon=0.1, eta0=0.0, fit_intercept=True,\n",
              "              l1_ratio=0.15, learning_rate='optimal', loss='log', max_iter=1000,\n",
              "              n_iter_no_change=5, n_jobs=None, penalty='l2', power_t=0.5,\n",
              "              random_state=None, shuffle=True, tol=0.001,\n",
              "              validation_fraction=0.1, verbose=0, warm_start=False)"
            ]
          },
          "metadata": {
            "tags": []
          },
          "execution_count": 129
        }
      ]
    },
    {
      "cell_type": "code",
      "metadata": {
        "id": "t_oN-5Y_jt5n",
        "colab_type": "code",
        "colab": {}
      },
      "source": [
        "xG = sgdclf.predict_proba(X_test)[:,1]"
      ],
      "execution_count": 0,
      "outputs": []
    },
    {
      "cell_type": "markdown",
      "metadata": {
        "id": "DULx0vgfpp8q",
        "colab_type": "text"
      },
      "source": [
        "SVM for xG"
      ]
    },
    {
      "cell_type": "code",
      "metadata": {
        "id": "Fx5tvrlHPbXc",
        "colab_type": "code",
        "outputId": "15efc949-6293-48f1-c16d-f03e60f7cc35",
        "colab": {
          "base_uri": "https://localhost:8080/",
          "height": 204
        }
      },
      "source": [
        "X_test['xG'] = xG\n",
        "X_test.head()"
      ],
      "execution_count": 0,
      "outputs": [
        {
          "output_type": "execute_result",
          "data": {
            "text/html": [
              "<div>\n",
              "<style scoped>\n",
              "    .dataframe tbody tr th:only-of-type {\n",
              "        vertical-align: middle;\n",
              "    }\n",
              "\n",
              "    .dataframe tbody tr th {\n",
              "        vertical-align: top;\n",
              "    }\n",
              "\n",
              "    .dataframe thead th {\n",
              "        text-align: right;\n",
              "    }\n",
              "</style>\n",
              "<table border=\"1\" class=\"dataframe\">\n",
              "  <thead>\n",
              "    <tr style=\"text-align: right;\">\n",
              "      <th></th>\n",
              "      <th>Distance</th>\n",
              "      <th>angle</th>\n",
              "      <th>body_part</th>\n",
              "      <th>counterAttack</th>\n",
              "      <th>positions_0_x</th>\n",
              "      <th>positions_0_y</th>\n",
              "      <th>DuelType</th>\n",
              "      <th>PassType</th>\n",
              "      <th>OpenPlay</th>\n",
              "      <th>xG</th>\n",
              "    </tr>\n",
              "  </thead>\n",
              "  <tbody>\n",
              "    <tr>\n",
              "      <th>966916</th>\n",
              "      <td>24.931118</td>\n",
              "      <td>13.561052</td>\n",
              "      <td>1</td>\n",
              "      <td>1</td>\n",
              "      <td>82</td>\n",
              "      <td>67</td>\n",
              "      <td>0</td>\n",
              "      <td>6</td>\n",
              "      <td>0</td>\n",
              "      <td>0.071241</td>\n",
              "    </tr>\n",
              "    <tr>\n",
              "      <th>1166231</th>\n",
              "      <td>10.810323</td>\n",
              "      <td>43.264295</td>\n",
              "      <td>1</td>\n",
              "      <td>0</td>\n",
              "      <td>90</td>\n",
              "      <td>49</td>\n",
              "      <td>0</td>\n",
              "      <td>1</td>\n",
              "      <td>0</td>\n",
              "      <td>0.327973</td>\n",
              "    </tr>\n",
              "    <tr>\n",
              "      <th>78961</th>\n",
              "      <td>17.904326</td>\n",
              "      <td>17.912509</td>\n",
              "      <td>1</td>\n",
              "      <td>0</td>\n",
              "      <td>88</td>\n",
              "      <td>37</td>\n",
              "      <td>0</td>\n",
              "      <td>6</td>\n",
              "      <td>0</td>\n",
              "      <td>0.172423</td>\n",
              "    </tr>\n",
              "    <tr>\n",
              "      <th>1708857</th>\n",
              "      <td>26.046409</td>\n",
              "      <td>6.911227</td>\n",
              "      <td>2</td>\n",
              "      <td>0</td>\n",
              "      <td>90</td>\n",
              "      <td>26</td>\n",
              "      <td>0</td>\n",
              "      <td>0</td>\n",
              "      <td>1</td>\n",
              "      <td>0.049128</td>\n",
              "    </tr>\n",
              "    <tr>\n",
              "      <th>988619</th>\n",
              "      <td>35.458271</td>\n",
              "      <td>3.691386</td>\n",
              "      <td>1</td>\n",
              "      <td>0</td>\n",
              "      <td>90</td>\n",
              "      <td>16</td>\n",
              "      <td>0</td>\n",
              "      <td>6</td>\n",
              "      <td>0</td>\n",
              "      <td>0.026513</td>\n",
              "    </tr>\n",
              "  </tbody>\n",
              "</table>\n",
              "</div>"
            ],
            "text/plain": [
              "          Distance      angle  body_part  ...  PassType  OpenPlay        xG\n",
              "966916   24.931118  13.561052          1  ...         6         0  0.071241\n",
              "1166231  10.810323  43.264295          1  ...         1         0  0.327973\n",
              "78961    17.904326  17.912509          1  ...         6         0  0.172423\n",
              "1708857  26.046409   6.911227          2  ...         0         1  0.049128\n",
              "988619   35.458271   3.691386          1  ...         6         0  0.026513\n",
              "\n",
              "[5 rows x 10 columns]"
            ]
          },
          "metadata": {
            "tags": []
          },
          "execution_count": 132
        }
      ]
    },
    {
      "cell_type": "markdown",
      "metadata": {
        "id": "lUFmYgKYWQv0",
        "colab_type": "text"
      },
      "source": [
        "True Test for model ?"
      ]
    },
    {
      "cell_type": "code",
      "metadata": {
        "id": "DNL_40pQTjSu",
        "colab_type": "code",
        "outputId": "68743fbb-7b31-4f0c-a655-af6e2b78f7e1",
        "colab": {
          "base_uri": "https://localhost:8080/",
          "height": 419
        }
      },
      "source": [
        "sortxg = X_test.sort_values(by = ['xG'],ascending=False)\n",
        "sortxg"
      ],
      "execution_count": 0,
      "outputs": [
        {
          "output_type": "execute_result",
          "data": {
            "text/html": [
              "<div>\n",
              "<style scoped>\n",
              "    .dataframe tbody tr th:only-of-type {\n",
              "        vertical-align: middle;\n",
              "    }\n",
              "\n",
              "    .dataframe tbody tr th {\n",
              "        vertical-align: top;\n",
              "    }\n",
              "\n",
              "    .dataframe thead th {\n",
              "        text-align: right;\n",
              "    }\n",
              "</style>\n",
              "<table border=\"1\" class=\"dataframe\">\n",
              "  <thead>\n",
              "    <tr style=\"text-align: right;\">\n",
              "      <th></th>\n",
              "      <th>Distance</th>\n",
              "      <th>angle</th>\n",
              "      <th>body_part</th>\n",
              "      <th>counterAttack</th>\n",
              "      <th>positions_0_x</th>\n",
              "      <th>positions_0_y</th>\n",
              "      <th>DuelType</th>\n",
              "      <th>PassType</th>\n",
              "      <th>OpenPlay</th>\n",
              "      <th>xG</th>\n",
              "    </tr>\n",
              "  </thead>\n",
              "  <tbody>\n",
              "    <tr>\n",
              "      <th>738061</th>\n",
              "      <td>4.000000</td>\n",
              "      <td>180.000000</td>\n",
              "      <td>1</td>\n",
              "      <td>0</td>\n",
              "      <td>100</td>\n",
              "      <td>47</td>\n",
              "      <td>0</td>\n",
              "      <td>6</td>\n",
              "      <td>0</td>\n",
              "      <td>0.915751</td>\n",
              "    </tr>\n",
              "    <tr>\n",
              "      <th>168627</th>\n",
              "      <td>4.130649</td>\n",
              "      <td>150.255119</td>\n",
              "      <td>1</td>\n",
              "      <td>0</td>\n",
              "      <td>99</td>\n",
              "      <td>49</td>\n",
              "      <td>0</td>\n",
              "      <td>3</td>\n",
              "      <td>0</td>\n",
              "      <td>0.853545</td>\n",
              "    </tr>\n",
              "    <tr>\n",
              "      <th>3036483</th>\n",
              "      <td>4.130649</td>\n",
              "      <td>150.255119</td>\n",
              "      <td>1</td>\n",
              "      <td>0</td>\n",
              "      <td>99</td>\n",
              "      <td>51</td>\n",
              "      <td>0</td>\n",
              "      <td>3</td>\n",
              "      <td>0</td>\n",
              "      <td>0.852571</td>\n",
              "    </tr>\n",
              "    <tr>\n",
              "      <th>590983</th>\n",
              "      <td>4.130649</td>\n",
              "      <td>150.255119</td>\n",
              "      <td>1</td>\n",
              "      <td>0</td>\n",
              "      <td>99</td>\n",
              "      <td>51</td>\n",
              "      <td>0</td>\n",
              "      <td>0</td>\n",
              "      <td>0</td>\n",
              "      <td>0.831066</td>\n",
              "    </tr>\n",
              "    <tr>\n",
              "      <th>2533518</th>\n",
              "      <td>4.130649</td>\n",
              "      <td>150.255119</td>\n",
              "      <td>1</td>\n",
              "      <td>0</td>\n",
              "      <td>99</td>\n",
              "      <td>51</td>\n",
              "      <td>0</td>\n",
              "      <td>0</td>\n",
              "      <td>0</td>\n",
              "      <td>0.831066</td>\n",
              "    </tr>\n",
              "    <tr>\n",
              "      <th>...</th>\n",
              "      <td>...</td>\n",
              "      <td>...</td>\n",
              "      <td>...</td>\n",
              "      <td>...</td>\n",
              "      <td>...</td>\n",
              "      <td>...</td>\n",
              "      <td>...</td>\n",
              "      <td>...</td>\n",
              "      <td>...</td>\n",
              "      <td>...</td>\n",
              "    </tr>\n",
              "    <tr>\n",
              "      <th>3119854</th>\n",
              "      <td>68.380383</td>\n",
              "      <td>6.681202</td>\n",
              "      <td>1</td>\n",
              "      <td>0</td>\n",
              "      <td>32</td>\n",
              "      <td>56</td>\n",
              "      <td>0</td>\n",
              "      <td>6</td>\n",
              "      <td>0</td>\n",
              "      <td>0.000354</td>\n",
              "    </tr>\n",
              "    <tr>\n",
              "      <th>565770</th>\n",
              "      <td>70.073190</td>\n",
              "      <td>5.240966</td>\n",
              "      <td>2</td>\n",
              "      <td>0</td>\n",
              "      <td>44</td>\n",
              "      <td>92</td>\n",
              "      <td>1</td>\n",
              "      <td>0</td>\n",
              "      <td>0</td>\n",
              "      <td>0.000192</td>\n",
              "    </tr>\n",
              "    <tr>\n",
              "      <th>1767939</th>\n",
              "      <td>78.073335</td>\n",
              "      <td>4.747234</td>\n",
              "      <td>2</td>\n",
              "      <td>0</td>\n",
              "      <td>37</td>\n",
              "      <td>4</td>\n",
              "      <td>1</td>\n",
              "      <td>0</td>\n",
              "      <td>0</td>\n",
              "      <td>0.000103</td>\n",
              "    </tr>\n",
              "    <tr>\n",
              "      <th>2203892</th>\n",
              "      <td>91.873429</td>\n",
              "      <td>4.947982</td>\n",
              "      <td>1</td>\n",
              "      <td>1</td>\n",
              "      <td>9</td>\n",
              "      <td>62</td>\n",
              "      <td>0</td>\n",
              "      <td>7</td>\n",
              "      <td>0</td>\n",
              "      <td>0.000021</td>\n",
              "    </tr>\n",
              "    <tr>\n",
              "      <th>1717516</th>\n",
              "      <td>97.595246</td>\n",
              "      <td>4.673221</td>\n",
              "      <td>1</td>\n",
              "      <td>0</td>\n",
              "      <td>3</td>\n",
              "      <td>60</td>\n",
              "      <td>0</td>\n",
              "      <td>0</td>\n",
              "      <td>0</td>\n",
              "      <td>0.000007</td>\n",
              "    </tr>\n",
              "  </tbody>\n",
              "</table>\n",
              "<p>8616 rows × 10 columns</p>\n",
              "</div>"
            ],
            "text/plain": [
              "          Distance       angle  body_part  ...  PassType  OpenPlay        xG\n",
              "738061    4.000000  180.000000          1  ...         6         0  0.915751\n",
              "168627    4.130649  150.255119          1  ...         3         0  0.853545\n",
              "3036483   4.130649  150.255119          1  ...         3         0  0.852571\n",
              "590983    4.130649  150.255119          1  ...         0         0  0.831066\n",
              "2533518   4.130649  150.255119          1  ...         0         0  0.831066\n",
              "...            ...         ...        ...  ...       ...       ...       ...\n",
              "3119854  68.380383    6.681202          1  ...         6         0  0.000354\n",
              "565770   70.073190    5.240966          2  ...         0         0  0.000192\n",
              "1767939  78.073335    4.747234          2  ...         0         0  0.000103\n",
              "2203892  91.873429    4.947982          1  ...         7         0  0.000021\n",
              "1717516  97.595246    4.673221          1  ...         0         0  0.000007\n",
              "\n",
              "[8616 rows x 10 columns]"
            ]
          },
          "metadata": {
            "tags": []
          },
          "execution_count": 133
        }
      ]
    },
    {
      "cell_type": "code",
      "metadata": {
        "id": "sfMI_qhqW3t6",
        "colab_type": "code",
        "outputId": "b9ca0152-79b6-4926-f69a-93757e55b861",
        "colab": {
          "base_uri": "https://localhost:8080/",
          "height": 187
        }
      },
      "source": [
        "for i in range(10):\n",
        "  print(sortxg.iloc[i]['xG'])"
      ],
      "execution_count": 0,
      "outputs": [
        {
          "output_type": "stream",
          "text": [
            "0.9157510419607181\n",
            "0.853544661355994\n",
            "0.8525705544578612\n",
            "0.8310656822839603\n",
            "0.8310656822839603\n",
            "0.8310656822839603\n",
            "0.8310656822839603\n",
            "0.8300543425631743\n",
            "0.8248330388192454\n",
            "0.8227661043411246\n"
          ],
          "name": "stdout"
        }
      ]
    },
    {
      "cell_type": "code",
      "metadata": {
        "id": "WzW9usZRQHRm",
        "colab_type": "code",
        "outputId": "7b4e32c8-9160-4658-eed9-4d95951c7790",
        "colab": {
          "base_uri": "https://localhost:8080/",
          "height": 417
        }
      },
      "source": [
        "import matplotlib.pyplot as plt\n",
        "pitch()\n",
        "\n",
        "#plt.plot([65,65],[0,90], color=\"pink\")\n",
        "\n",
        "for i in range(len(sortxg)):\n",
        "    xe = sortxg.iloc[i]['positions_0_x']\n",
        "    ye = sortxg.iloc[i]['positions_0_y']\n",
        "    if sortxg.iloc[i]['xG'] >= 0.75:\n",
        "      g = plt.scatter(xe,ye,color=\"#ee3e32\",edgecolors=\"none\",zorder=10,alpha=1,s = 40 )\n",
        "    elif sortxg.iloc[i]['xG'] < 0.75 and sortxg.iloc[i]['xG'] >=0.5:\n",
        "      g = plt.scatter(xe,ye,color=\"#f68838\",edgecolors=\"none\",zorder=8,alpha=0.75,s = 30 )\n",
        "    elif sortxg.iloc[i]['xG'] < 0.5 and sortxg.iloc[i]['xG'] >=0.25:\n",
        "      g = plt.scatter(xe,ye,color=\"#fbb021\",edgecolors=\"none\",zorder=6,alpha=0.5,s = 20 )  \n",
        "    else:\n",
        "      g = plt.scatter(xe,ye,color=\"#1b8a5a\",edgecolors=\"none\",zorder=4,alpha=0.25,s = 10 )    \n",
        "plt.axis('off')\n",
        "plt.title('xG SGD model')\n",
        "plt.savefig('xgSGDmodel.png')\n",
        "plt.show()"
      ],
      "execution_count": 0,
      "outputs": [
        {
          "output_type": "display_data",
          "data": {
            "image/png": "[encoded data removed]",
            "text/plain": [
              "<Figure size 748.8x489.6 with 1 Axes>"
            ]
          },
          "metadata": {
            "tags": [],
            "needs_background": "light"
          }
        }
      ]
    },
    {
      "cell_type": "code",
      "metadata": {
        "id": "LjYjCLdPmZKH",
        "colab_type": "code",
        "outputId": "0031bd6a-0e14-4611-ee9e-d4ac525f3f5d",
        "colab": {
          "base_uri": "https://localhost:8080/",
          "height": 417
        }
      },
      "source": [
        "import matplotlib.pyplot as plt\n",
        "pitch()\n",
        "\n",
        "#plt.plot([65,65],[0,90], color=\"pink\")\n",
        "\n",
        "for i in range(800):\n",
        "    xe = X_test.iloc[i]['positions_0_x']\n",
        "    ye = X_test.iloc[i]['positions_0_y']\n",
        "    if X_test.iloc[i]['xG'] >= 0.75:\n",
        "      g = plt.scatter(xe,ye,color=\"#ee3e32\",edgecolors=\"none\",zorder=10,alpha=1,s = 40 )\n",
        "    elif X_test.iloc[i]['xG'] < 0.75 and X_test.iloc[i]['xG'] >=0.5:\n",
        "      g = plt.scatter(xe,ye,color=\"#f68838\",edgecolors=\"none\",zorder=8,alpha=0.75,s = 30 )\n",
        "    elif X_test.iloc[i]['xG'] < 0.5 and X_test.iloc[i]['xG'] >=0.25:\n",
        "      g = plt.scatter(xe,ye,color=\"#fbb021\",edgecolors=\"none\",zorder=6,alpha=0.5,s = 20 )  \n",
        "    else:\n",
        "      g = plt.scatter(xe,ye,color=\"#1b8a5a\",edgecolors=\"none\",zorder=4,alpha=0.25,s = 10 )    \n",
        "plt.axis('off')\n",
        "plt.title('SGDxG of 800 Shots')\n",
        "plt.savefig('SGDxG800shots.png')\n",
        "plt.show()    "
      ],
      "execution_count": 0,
      "outputs": [
        {
          "output_type": "display_data",
          "data": {
            "image/png": "[encoded data removed]",
            "text/plain": [
              "<Figure size 748.8x489.6 with 1 Axes>"
            ]
          },
          "metadata": {
            "tags": [],
            "needs_background": "light"
          }
        }
      ]
    },
    {
      "cell_type": "code",
      "metadata": {
        "id": "jljBFcPIhpK8",
        "colab_type": "code",
        "outputId": "ef257890-844a-4bb7-c517-897fb0b4fae2",
        "colab": {
          "base_uri": "https://localhost:8080/",
          "height": 417
        }
      },
      "source": [
        "import matplotlib.pyplot as plt\n",
        "pitch()\n",
        "\n",
        "#plt.plot([65,65],[0,90], color=\"pink\")\n",
        "\n",
        "for i in range(1000):\n",
        "    xe = sortxg.iloc[i]['positions_0_x']\n",
        "    ye = sortxg.iloc[i]['positions_0_y']\n",
        "    if sortxg.iloc[i]['xG'] >= 0.75:\n",
        "      g = plt.scatter(xe,ye,color=\"#ee3e32\",edgecolors=\"none\",zorder=10,alpha=1,s = 40 )\n",
        "    elif sortxg.iloc[i]['xG'] < 0.75 and sortxg.iloc[i]['xG'] >=0.5:\n",
        "      g = plt.scatter(xe,ye,color=\"#f68838\",edgecolors=\"none\",zorder=8,alpha=0.75,s = 30 )\n",
        "    elif sortxg.iloc[i]['xG'] < 0.5 and sortxg.iloc[i]['xG'] >=0.25:\n",
        "      g = plt.scatter(xe,ye,color=\"#fbb021\",edgecolors=\"none\",zorder=6,alpha=0.5,s = 20 )  \n",
        "    else:\n",
        "      g = plt.scatter(xe,ye,color=\"#1b8a5a\",edgecolors=\"none\",zorder=4,alpha=0.25,s = 10 )    \n",
        "plt.axis('off')\n",
        "plt.title('SGDxG Top 1000 Shots')\n",
        "plt.savefig('SGDxGtop1000shots.png')\n",
        "plt.show()"
      ],
      "execution_count": 0,
      "outputs": [
        {
          "output_type": "display_data",
          "data": {
            "image/png": "[encoded data removed]",
            "text/plain": [
              "<Figure size 748.8x489.6 with 1 Axes>"
            ]
          },
          "metadata": {
            "tags": [],
            "needs_background": "light"
          }
        }
      ]
    },
    {
      "cell_type": "markdown",
      "metadata": {
        "id": "5u_k65jTgodf",
        "colab_type": "text"
      },
      "source": [
        "# Save Model using Pickle"
      ]
    },
    {
      "cell_type": "code",
      "metadata": {
        "id": "hB2Ub2CofEDp",
        "colab_type": "code",
        "colab": {}
      },
      "source": [
        "import pickle\n",
        "  \n",
        "# Save the model as a pickle in a file \n",
        "f = open('SGDparamsxG.pkl','wb')\n",
        "pickle.dump(sgdclf, f)"
      ],
      "execution_count": 0,
      "outputs": []
    },
    {
      "cell_type": "markdown",
      "metadata": {
        "id": "vbJ0WxSuiRAS",
        "colab_type": "text"
      },
      "source": [
        "Predict Kaka shot and penalty"
      ]
    },
    {
      "cell_type": "code",
      "metadata": {
        "id": "tO-cuPIAjMZa",
        "colab_type": "code",
        "outputId": "13e3d77b-aaaf-4dc7-8403-152ec3fae2d3",
        "colab": {
          "base_uri": "https://localhost:8080/",
          "height": 34
        }
      },
      "source": [
        "#['Distance','angle','body_part','counterAttack','positions_0_x','positions_0_y','DuelType',\t'PassType',\t'OpenPlay']\n",
        "sgdclf.predict_proba(np.array([11,39.699073,1,0,89,51,0,0,0]).reshape(1, -1))[:,1]"
      ],
      "execution_count": 0,
      "outputs": [
        {
          "output_type": "execute_result",
          "data": {
            "text/plain": [
              "array([0.31594881])"
            ]
          },
          "metadata": {
            "tags": []
          },
          "execution_count": 108
        }
      ]
    },
    {
      "cell_type": "code",
      "metadata": {
        "id": "nmnpsI8GjkAa",
        "colab_type": "code",
        "outputId": "4de5e7d4-2e03-4d3d-81fd-52d656092348",
        "colab": {
          "base_uri": "https://localhost:8080/",
          "height": 34
        }
      },
      "source": [
        "nx = 100\n",
        "ny = 54\n",
        "fx = 100\n",
        "fy = 46\n",
        "\n",
        "goalpostLength = 8\n",
        "len1 = (math.sqrt(((90 - nx)**2) + ((51 - ny)**2))) \n",
        "len2 = (math.sqrt(((90 - fx)**2) + ((51 - fy)**2)))\n",
        "ang = (len1**2 + len2**2 - goalpostLength**2)/(2 * len1 * len2)\n",
        "angRad = math.acos(ang)\n",
        "print( (angRad * 180)/math.pi) "
      ],
      "execution_count": 0,
      "outputs": [
        {
          "output_type": "stream",
          "text": [
            "43.264295411071615\n"
          ],
          "name": "stdout"
        }
      ]
    }
  ]
}